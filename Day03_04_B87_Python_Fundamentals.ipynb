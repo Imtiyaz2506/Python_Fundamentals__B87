{
 "cells": [
  {
   "cell_type": "code",
   "execution_count": null,
   "id": "dff02ade",
   "metadata": {},
   "outputs": [],
   "source": [
    "Introduction to variable datatypes in python"
   ]
  },
  {
   "cell_type": "code",
   "execution_count": null,
   "id": "75676638",
   "metadata": {},
   "outputs": [],
   "source": [
    "Types of datatype on the basis of their composition \n",
    "\n",
    "\n",
    "SN        Datatypes              name in python.         symbol in python readout\n",
    "\n",
    "1.        String                 String.                   str\n",
    "\n",
    "2.        Numbers                Integers (int)            int   (example 0, 1, 2 , 3 etc)\n",
    "                                                           \n",
    "                                 Floats (decimel)                Example 0.1, 0.2, 0.3. 1.5, 2.5 etc\n",
    "        \n",
    "3.        List.                   list                           Example (not given)\n",
    "\n",
    "4.        Tuples                  tuple\n",
    "\n",
    "\n",
    "5.        Dictionaries            dict                      dict\n",
    "\n",
    "\n"
   ]
  },
  {
   "cell_type": "code",
   "execution_count": null,
   "id": "95cb5d81",
   "metadata": {},
   "outputs": [],
   "source": [
    "Types of datatype on the basis of their flexibility to edit\n",
    "\n",
    "Broadly datatype can be classified into two categories\n",
    "\n",
    "\n",
    "1. Mutable datatypes =====> A datatype which we can edit or alter =====> flexible in nature\n",
    "\n",
    "\n",
    "2. immutable datatype =====> A datatype which we can not edit or alter =====> fixed in nature\n",
    "\n"
   ]
  },
  {
   "cell_type": "code",
   "execution_count": null,
   "id": "3dda25f2",
   "metadata": {},
   "outputs": [],
   "source": [
    "Note: Python is a case-sensitive programming language"
   ]
  },
  {
   "cell_type": "code",
   "execution_count": 1,
   "id": "dda048ca",
   "metadata": {},
   "outputs": [
    {
     "name": "stdout",
     "output_type": "stream",
     "text": [
      "Imtiyaz_Ahmad\n"
     ]
    }
   ],
   "source": [
    "name_1 = \"Imtiyaz_Ahmad\"\n",
    "\n",
    "name_2 = \"imtiyaz_ahmad\"\n",
    "\n",
    "print(name_1)"
   ]
  },
  {
   "cell_type": "code",
   "execution_count": 2,
   "id": "0e0c9c30",
   "metadata": {},
   "outputs": [
    {
     "name": "stdout",
     "output_type": "stream",
     "text": [
      "imtiyaz_ahmad\n"
     ]
    }
   ],
   "source": [
    "print(name_2)"
   ]
  },
  {
   "cell_type": "code",
   "execution_count": 3,
   "id": "e2c825c1",
   "metadata": {},
   "outputs": [
    {
     "name": "stdout",
     "output_type": "stream",
     "text": [
      "Imtiyaz\n"
     ]
    }
   ],
   "source": [
    "name_3 = \"Imtiyaz\"\n",
    "\n",
    "name_4 = \"imtiyaz\"\n",
    "\n",
    "print(name_3)"
   ]
  },
  {
   "cell_type": "code",
   "execution_count": 4,
   "id": "ff35f2df",
   "metadata": {},
   "outputs": [
    {
     "name": "stdout",
     "output_type": "stream",
     "text": [
      "imtiyaz\n"
     ]
    }
   ],
   "source": [
    "print(name_4)"
   ]
  },
  {
   "cell_type": "code",
   "execution_count": 5,
   "id": "b1dc7d44",
   "metadata": {},
   "outputs": [
    {
     "name": "stdout",
     "output_type": "stream",
     "text": [
      "<built-in method title of str object at 0x7fc0d1610f70>\n"
     ]
    }
   ],
   "source": [
    "print(name_4.title)"
   ]
  },
  {
   "cell_type": "code",
   "execution_count": 6,
   "id": "b16a2889",
   "metadata": {},
   "outputs": [
    {
     "name": "stdout",
     "output_type": "stream",
     "text": [
      "imtiyaz\n"
     ]
    }
   ],
   "source": [
    "print(name_4)"
   ]
  },
  {
   "cell_type": "code",
   "execution_count": 7,
   "id": "920e1fa3",
   "metadata": {},
   "outputs": [
    {
     "name": "stdout",
     "output_type": "stream",
     "text": [
      "<built-in method title of str object at 0x7fc0d1610f70>\n"
     ]
    }
   ],
   "source": [
    "print(name_4.title)"
   ]
  },
  {
   "cell_type": "code",
   "execution_count": 8,
   "id": "9752a445",
   "metadata": {},
   "outputs": [
    {
     "name": "stdout",
     "output_type": "stream",
     "text": [
      "<built-in method upper of str object at 0x7fc0d1610f70>\n"
     ]
    }
   ],
   "source": [
    "print(name_4.upper)"
   ]
  },
  {
   "cell_type": "code",
   "execution_count": 9,
   "id": "2e1b94bf",
   "metadata": {},
   "outputs": [
    {
     "name": "stdout",
     "output_type": "stream",
     "text": [
      "imtiyaz\n"
     ]
    }
   ],
   "source": [
    "name4 = \"imtiyaz\"\n",
    "\n",
    "print(name4)"
   ]
  },
  {
   "cell_type": "code",
   "execution_count": 10,
   "id": "8c2169ac",
   "metadata": {},
   "outputs": [
    {
     "ename": "AttributeError",
     "evalue": "'str' object has no attribute 'tittle'",
     "output_type": "error",
     "traceback": [
      "\u001b[0;31m---------------------------------------------------------------------------\u001b[0m",
      "\u001b[0;31mAttributeError\u001b[0m                            Traceback (most recent call last)",
      "\u001b[0;32m/var/folders/pm/wqxb6c8d45qdtlg8xb6wjrjm0000gn/T/ipykernel_23173/4204456676.py\u001b[0m in \u001b[0;36m<module>\u001b[0;34m\u001b[0m\n\u001b[0;32m----> 1\u001b[0;31m \u001b[0mprint\u001b[0m\u001b[0;34m(\u001b[0m\u001b[0mname4\u001b[0m\u001b[0;34m.\u001b[0m\u001b[0mtittle\u001b[0m\u001b[0;34m)\u001b[0m\u001b[0;34m\u001b[0m\u001b[0;34m\u001b[0m\u001b[0m\n\u001b[0m",
      "\u001b[0;31mAttributeError\u001b[0m: 'str' object has no attribute 'tittle'"
     ]
    }
   ],
   "source": [
    "print(name4.tittle)"
   ]
  },
  {
   "cell_type": "code",
   "execution_count": 11,
   "id": "d1b40f5c",
   "metadata": {},
   "outputs": [
    {
     "name": "stdout",
     "output_type": "stream",
     "text": [
      "<built-in method title of str object at 0x7fc0d1610f70>\n"
     ]
    }
   ],
   "source": [
    "print(name4.title)"
   ]
  },
  {
   "cell_type": "code",
   "execution_count": 12,
   "id": "0ff098a3",
   "metadata": {},
   "outputs": [
    {
     "name": "stdout",
     "output_type": "stream",
     "text": [
      "<built-in method upper of str object at 0x7fc0d1610f70>\n"
     ]
    }
   ],
   "source": [
    "print(name4.upper)"
   ]
  },
  {
   "cell_type": "code",
   "execution_count": 13,
   "id": "10d9663b",
   "metadata": {},
   "outputs": [
    {
     "name": "stdout",
     "output_type": "stream",
     "text": [
      "Imtiyaz\n"
     ]
    }
   ],
   "source": [
    "print(name4.title())"
   ]
  },
  {
   "cell_type": "code",
   "execution_count": 14,
   "id": "500e4f7b",
   "metadata": {},
   "outputs": [
    {
     "name": "stdout",
     "output_type": "stream",
     "text": [
      "IMTIYAZ\n"
     ]
    }
   ],
   "source": [
    "print(name4.upper())"
   ]
  },
  {
   "cell_type": "code",
   "execution_count": 16,
   "id": "ef20d22b",
   "metadata": {},
   "outputs": [
    {
     "ename": "SyntaxError",
     "evalue": "invalid syntax (67701574.py, line 1)",
     "output_type": "error",
     "traceback": [
      "\u001b[0;36m  File \u001b[0;32m\"/var/folders/pm/wqxb6c8d45qdtlg8xb6wjrjm0000gn/T/ipykernel_23173/67701574.py\"\u001b[0;36m, line \u001b[0;32m1\u001b[0m\n\u001b[0;31m    Introduction string datatype\u001b[0m\n\u001b[0m                 ^\u001b[0m\n\u001b[0;31mSyntaxError\u001b[0m\u001b[0;31m:\u001b[0m invalid syntax\n"
     ]
    }
   ],
   "source": [
    "Introduction string datatype\n",
    "\n",
    "Definition: A string is a series of charcters declaired in quotes (single quotes ' ' or double quotes \" \")\n",
    "    \n",
    "Classification: it is classified as immutable datatype\n",
    "    \n",
    "    \n",
    "    How to declare string datatype\n",
    "    \n",
    "    Single quotes ====> 'Imtiyaz'       # single quotes\n",
    "    \n",
    "    Double quptes ====> \"Abdullah\"      # double quotes\n",
    "    \n",
    "    \n",
    "    # is used to comment on string datatype code\n",
    "    "
   ]
  },
  {
   "cell_type": "code",
   "execution_count": 17,
   "id": "fb3a5db0",
   "metadata": {},
   "outputs": [
    {
     "name": "stdout",
     "output_type": "stream",
     "text": [
      "Imtiyaz\n"
     ]
    }
   ],
   "source": [
    "name5 = 'Imtiyaz'       # single quotes\n",
    "\n",
    "name6 = \"Abdullah\"      # double quotes\n",
    "\n",
    "print(name5)"
   ]
  },
  {
   "cell_type": "code",
   "execution_count": 18,
   "id": "8dd2c825",
   "metadata": {},
   "outputs": [
    {
     "name": "stdout",
     "output_type": "stream",
     "text": [
      "Abdullah\n"
     ]
    }
   ],
   "source": [
    "print(name6)"
   ]
  },
  {
   "cell_type": "code",
   "execution_count": 19,
   "id": "5073b967",
   "metadata": {},
   "outputs": [
    {
     "ename": "SyntaxError",
     "evalue": "invalid syntax (3925627971.py, line 1)",
     "output_type": "error",
     "traceback": [
      "\u001b[0;36m  File \u001b[0;32m\"/var/folders/pm/wqxb6c8d45qdtlg8xb6wjrjm0000gn/T/ipykernel_23173/3925627971.py\"\u001b[0;36m, line \u001b[0;32m1\u001b[0m\n\u001b[0;31m    Introduction to string method\u001b[0m\n\u001b[0m                 ^\u001b[0m\n\u001b[0;31mSyntaxError\u001b[0m\u001b[0;31m:\u001b[0m invalid syntax\n"
     ]
    }
   ],
   "source": [
    "Introduction to string method\n",
    "\n",
    "method to find the datatype\n",
    "\n",
    "the type method\n",
    "\n",
    "type(name)          Shift+Enter\n",
    "\n",
    "Example\n",
    "\n",
    "type()"
   ]
  },
  {
   "cell_type": "code",
   "execution_count": 20,
   "id": "bbd29698",
   "metadata": {},
   "outputs": [
    {
     "data": {
      "text/plain": [
       "str"
      ]
     },
     "execution_count": 20,
     "metadata": {},
     "output_type": "execute_result"
    }
   ],
   "source": [
    "type(name5)"
   ]
  },
  {
   "cell_type": "code",
   "execution_count": 22,
   "id": "2fa4ed7f",
   "metadata": {},
   "outputs": [
    {
     "data": {
      "text/plain": [
       "str"
      ]
     },
     "execution_count": 22,
     "metadata": {},
     "output_type": "execute_result"
    }
   ],
   "source": [
    "type(name4)"
   ]
  },
  {
   "cell_type": "code",
   "execution_count": 28,
   "id": "998d91c3",
   "metadata": {},
   "outputs": [
    {
     "name": "stdout",
     "output_type": "stream",
     "text": [
      "imtiyaz ahmad\n"
     ]
    }
   ],
   "source": [
    "name = \"imtiyaz ahmad\"\n",
    "\n",
    "\n",
    "print(name)"
   ]
  },
  {
   "cell_type": "code",
   "execution_count": 29,
   "id": "83fe4576",
   "metadata": {},
   "outputs": [
    {
     "name": "stdout",
     "output_type": "stream",
     "text": [
      "Imtiyaz Ahmad\n"
     ]
    }
   ],
   "source": [
    "print(name.title())"
   ]
  },
  {
   "cell_type": "code",
   "execution_count": 30,
   "id": "2f0bdcec",
   "metadata": {},
   "outputs": [
    {
     "name": "stdout",
     "output_type": "stream",
     "text": [
      "IMTIYAZ AHMAD\n"
     ]
    }
   ],
   "source": [
    "print(name.upper())"
   ]
  },
  {
   "cell_type": "code",
   "execution_count": null,
   "id": "fc18bed3",
   "metadata": {},
   "outputs": [],
   "source": []
  }
 ],
 "metadata": {
  "kernelspec": {
   "display_name": "Python 3 (ipykernel)",
   "language": "python",
   "name": "python3"
  },
  "language_info": {
   "codemirror_mode": {
    "name": "ipython",
    "version": 3
   },
   "file_extension": ".py",
   "mimetype": "text/x-python",
   "name": "python",
   "nbconvert_exporter": "python",
   "pygments_lexer": "ipython3",
   "version": "3.9.7"
  }
 },
 "nbformat": 4,
 "nbformat_minor": 5
}
