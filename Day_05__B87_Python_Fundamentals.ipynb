{
 "cells": [
  {
   "cell_type": "code",
   "execution_count": null,
   "id": "b18bdf60",
   "metadata": {},
   "outputs": [],
   "source": [
    "Continuation with the string datatype"
   ]
  },
  {
   "cell_type": "code",
   "execution_count": null,
   "id": "b40a5215",
   "metadata": {},
   "outputs": [],
   "source": [
    "firstname = 'imtiyaz'\n",
    "lastname = 'ahmad'"
   ]
  },
  {
   "cell_type": "code",
   "execution_count": null,
   "id": "da358df0",
   "metadata": {},
   "outputs": [],
   "source": [
    "# req: I want to get the full name ........?"
   ]
  },
  {
   "cell_type": "code",
   "execution_count": null,
   "id": "81ccb7ec",
   "metadata": {},
   "outputs": [],
   "source": [
    "Introduction to f string"
   ]
  },
  {
   "cell_type": "code",
   "execution_count": 3,
   "id": "e1ddee51",
   "metadata": {},
   "outputs": [
    {
     "name": "stdout",
     "output_type": "stream",
     "text": [
      "imtiyaz ahmad\n"
     ]
    }
   ],
   "source": [
    "# general syntax of f strings\n",
    "\n",
    "f\" custome message (placeholder 1) (placeholder 2).............(placeholder.....n)\"\n",
    "\n",
    "fullname = f\"imtiyaz ahmad\"\n",
    "\n",
    "print(fullname)\n"
   ]
  },
  {
   "cell_type": "code",
   "execution_count": 4,
   "id": "6f088ea1",
   "metadata": {},
   "outputs": [
    {
     "name": "stdout",
     "output_type": "stream",
     "text": [
      "Abdul Ahad\n"
     ]
    }
   ],
   "source": [
    "fullname2 = f\"Abdul Ahad\"\n",
    "\n",
    "print(fullname2)"
   ]
  },
  {
   "cell_type": "code",
   "execution_count": 6,
   "id": "c1094015",
   "metadata": {},
   "outputs": [
    {
     "name": "stdout",
     "output_type": "stream",
     "text": [
      "ABDUL AHAD\n"
     ]
    }
   ],
   "source": [
    "print(fullname2.upper())"
   ]
  },
  {
   "cell_type": "code",
   "execution_count": 7,
   "id": "d2d0acf1",
   "metadata": {},
   "outputs": [
    {
     "name": "stdout",
     "output_type": "stream",
     "text": [
      " keep the good work Abdul Ahad\n"
     ]
    }
   ],
   "source": [
    "message = f\" keep the good work Abdul Ahad\"\n",
    "\n",
    "print(message)"
   ]
  },
  {
   "cell_type": "code",
   "execution_count": 9,
   "id": "164df5bd",
   "metadata": {},
   "outputs": [
    {
     "name": "stdout",
     "output_type": "stream",
     "text": [
      "ABDUL AHAD\n"
     ]
    }
   ],
   "source": [
    "print(fullname2.upper())"
   ]
  },
  {
   "cell_type": "code",
   "execution_count": null,
   "id": "d9754dfe",
   "metadata": {},
   "outputs": [],
   "source": [
    "['ABDUI AHAD']"
   ]
  },
  {
   "cell_type": "code",
   "execution_count": 10,
   "id": "0f1ff3b5",
   "metadata": {},
   "outputs": [
    {
     "name": "stdout",
     "output_type": "stream",
     "text": [
      "abdul ahad\n"
     ]
    }
   ],
   "source": [
    "print(fullname2.lower())"
   ]
  },
  {
   "cell_type": "code",
   "execution_count": null,
   "id": "f5b43f56",
   "metadata": {},
   "outputs": [],
   "source": [
    "Adding whitespaces to strings"
   ]
  },
  {
   "cell_type": "code",
   "execution_count": 11,
   "id": "300264ba",
   "metadata": {},
   "outputs": [
    {
     "name": "stdout",
     "output_type": "stream",
     "text": [
      "favourite_programming_languages:CC++pascalpythonJavaswiftreact\n"
     ]
    }
   ],
   "source": [
    "print(\"favourite_programming_languages:CC++pascalpythonJavaswiftreact\")"
   ]
  },
  {
   "cell_type": "code",
   "execution_count": 13,
   "id": "a1fca41a",
   "metadata": {},
   "outputs": [
    {
     "name": "stdout",
     "output_type": "stream",
     "text": [
      "favourite_programming_languages:\n",
      "C\n",
      "C++\n",
      "pascal\n",
      "python\n",
      "Javas\n",
      "wift\n",
      "reactjs\n"
     ]
    }
   ],
   "source": [
    "print(\"favourite_programming_languages:\\nC\\nC++\\npascal\\npython\\nJavas\\nwift\\nreactjs\")"
   ]
  },
  {
   "cell_type": "code",
   "execution_count": null,
   "id": "4a858f42",
   "metadata": {},
   "outputs": [],
   "source": []
  },
  {
   "cell_type": "code",
   "execution_count": null,
   "id": "1d5c0d59",
   "metadata": {},
   "outputs": [],
   "source": []
  },
  {
   "cell_type": "code",
   "execution_count": null,
   "id": "c3722c3f",
   "metadata": {},
   "outputs": [],
   "source": []
  },
  {
   "cell_type": "code",
   "execution_count": null,
   "id": "740480fa",
   "metadata": {},
   "outputs": [],
   "source": []
  },
  {
   "cell_type": "code",
   "execution_count": null,
   "id": "7e10f347",
   "metadata": {},
   "outputs": [],
   "source": []
  },
  {
   "cell_type": "code",
   "execution_count": null,
   "id": "a84d768a",
   "metadata": {},
   "outputs": [],
   "source": []
  },
  {
   "cell_type": "code",
   "execution_count": null,
   "id": "7a0ef687",
   "metadata": {},
   "outputs": [],
   "source": []
  },
  {
   "cell_type": "code",
   "execution_count": null,
   "id": "26c16842",
   "metadata": {},
   "outputs": [],
   "source": []
  },
  {
   "cell_type": "code",
   "execution_count": null,
   "id": "b73ca1e8",
   "metadata": {},
   "outputs": [],
   "source": []
  }
 ],
 "metadata": {
  "kernelspec": {
   "display_name": "Python 3 (ipykernel)",
   "language": "python",
   "name": "python3"
  },
  "language_info": {
   "codemirror_mode": {
    "name": "ipython",
    "version": 3
   },
   "file_extension": ".py",
   "mimetype": "text/x-python",
   "name": "python",
   "nbconvert_exporter": "python",
   "pygments_lexer": "ipython3",
   "version": "3.9.7"
  }
 },
 "nbformat": 4,
 "nbformat_minor": 5
}
