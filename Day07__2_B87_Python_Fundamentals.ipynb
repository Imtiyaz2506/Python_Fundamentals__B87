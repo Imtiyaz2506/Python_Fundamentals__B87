{
 "cells": [
  {
   "cell_type": "code",
   "execution_count": null,
   "id": "c4c7317e",
   "metadata": {},
   "outputs": [],
   "source": [
    "    # Day07_B87_Python_Fundamentals"
   ]
  },
  {
   "cell_type": "code",
   "execution_count": null,
   "id": "421ac4a9",
   "metadata": {},
   "outputs": [],
   "source": [
    "    # Continuation with LIST datatype"
   ]
  },
  {
   "cell_type": "code",
   "execution_count": null,
   "id": "8733af77",
   "metadata": {},
   "outputs": [],
   "source": [
    "     Organising the list datatype"
   ]
  },
  {
   "cell_type": "code",
   "execution_count": 3,
   "id": "7b62de94",
   "metadata": {},
   "outputs": [],
   "source": [
    "study = ['table', 'chair', 'book', 'notebook', 'pen', 'pencil', 'eraser']"
   ]
  },
  {
   "cell_type": "code",
   "execution_count": 4,
   "id": "5b5695c8",
   "metadata": {},
   "outputs": [
    {
     "data": {
      "text/plain": [
       "list"
      ]
     },
     "execution_count": 4,
     "metadata": {},
     "output_type": "execute_result"
    }
   ],
   "source": [
    "type(study)"
   ]
  },
  {
   "cell_type": "code",
   "execution_count": null,
   "id": "9801ab36",
   "metadata": {},
   "outputs": [],
   "source": [
    "# req: I want to organise the list in alphabetical order A -----> Z\n",
    "\n",
    "Two methods\n",
    "\n",
    "    1. Temporary method ====> sorted method, ======> the list is temporarily modified but the original order of the \n",
    "    elements  in the list is still maintained or preserved\n",
    "    \n",
    "    \n",
    "    2. Permanent method =====> sort method ====> the original order of elements in the list is permanently \n",
    "    alphabetically arranged and hence the list is permanently modified.\n",
    "    "
   ]
  },
  {
   "cell_type": "code",
   "execution_count": null,
   "id": "f07a34c7",
   "metadata": {},
   "outputs": [],
   "source": [
    "    "
   ]
  },
  {
   "cell_type": "code",
   "execution_count": null,
   "id": "e9159550",
   "metadata": {},
   "outputs": [],
   "source": [
    "1. sorted method"
   ]
  },
  {
   "cell_type": "code",
   "execution_count": 9,
   "id": "62cd4ba2",
   "metadata": {},
   "outputs": [
    {
     "name": "stdout",
     "output_type": "stream",
     "text": [
      "['table', 'chair', 'book', 'notebook', 'pen', 'pencil', 'eraser']\n"
     ]
    }
   ],
   "source": [
    "print(study)"
   ]
  },
  {
   "cell_type": "code",
   "execution_count": 10,
   "id": "d0222098",
   "metadata": {},
   "outputs": [
    {
     "name": "stdout",
     "output_type": "stream",
     "text": [
      "['book', 'chair', 'eraser', 'notebook', 'pen', 'pencil', 'table']\n"
     ]
    }
   ],
   "source": [
    "print(sorted(study)) # this command sorted the element in list (study) alphabatically"
   ]
  },
  {
   "cell_type": "code",
   "execution_count": 11,
   "id": "1848934f",
   "metadata": {},
   "outputs": [
    {
     "name": "stdout",
     "output_type": "stream",
     "text": [
      "['table', 'chair', 'book', 'notebook', 'pen', 'pencil', 'eraser']\n"
     ]
    }
   ],
   "source": [
    "print(study)      # printing the list (study) gives the same original order of elements in the list."
   ]
  },
  {
   "cell_type": "code",
   "execution_count": null,
   "id": "bfa08e1f",
   "metadata": {},
   "outputs": [],
   "source": [
    "2. sort method"
   ]
  },
  {
   "cell_type": "code",
   "execution_count": 13,
   "id": "2d151d83",
   "metadata": {},
   "outputs": [],
   "source": [
    "study.sort()"
   ]
  },
  {
   "cell_type": "code",
   "execution_count": 14,
   "id": "adb6f5b5",
   "metadata": {},
   "outputs": [
    {
     "name": "stdout",
     "output_type": "stream",
     "text": [
      "['book', 'chair', 'eraser', 'notebook', 'pen', 'pencil', 'table']\n"
     ]
    }
   ],
   "source": [
    "print(study)"
   ]
  },
  {
   "cell_type": "code",
   "execution_count": null,
   "id": "fae60bb3",
   "metadata": {},
   "outputs": [],
   "source": [
    "Interview Question: What is the difference between sorted and sort method in list datatype?\n",
    "    \n",
    "    Sorted method change the order of elements in a list temprarily in alphabatical order or reverse\n",
    "    sort method change the order of elements in a list permanently in alphabatical order or reverse"
   ]
  },
  {
   "cell_type": "code",
   "execution_count": null,
   "id": "a728b603",
   "metadata": {},
   "outputs": [],
   "source": [
    "# req : How to print the list in a reverse order?"
   ]
  },
  {
   "cell_type": "code",
   "execution_count": 17,
   "id": "21d28af5",
   "metadata": {},
   "outputs": [
    {
     "name": "stdout",
     "output_type": "stream",
     "text": [
      "['book', 'chair', 'eraser', 'notebook', 'pen', 'pencil', 'table']\n"
     ]
    }
   ],
   "source": [
    "print(study)"
   ]
  },
  {
   "cell_type": "code",
   "execution_count": 23,
   "id": "16989121",
   "metadata": {},
   "outputs": [],
   "source": [
    "study.reverse()"
   ]
  },
  {
   "cell_type": "code",
   "execution_count": 24,
   "id": "821a1ae5",
   "metadata": {},
   "outputs": [
    {
     "name": "stdout",
     "output_type": "stream",
     "text": [
      "['table', 'pencil', 'pen', 'notebook', 'eraser', 'chair', 'book']\n"
     ]
    }
   ],
   "source": [
    "print(study)"
   ]
  },
  {
   "cell_type": "code",
   "execution_count": 25,
   "id": "8ce55951",
   "metadata": {},
   "outputs": [
    {
     "data": {
      "text/plain": [
       "7"
      ]
     },
     "execution_count": 25,
     "metadata": {},
     "output_type": "execute_result"
    }
   ],
   "source": [
    "len(study)"
   ]
  },
  {
   "cell_type": "code",
   "execution_count": null,
   "id": "8dbde906",
   "metadata": {},
   "outputs": [],
   "source": [
    "    # slicing the LIST\n",
    "    \n",
    "    # General syntax of slicing\n",
    "    \n",
    "    [start_value:stop_value:step_count]\n",
    "    \n",
    "    Note: stop_value is always exclusive (not included, all others before it will be included)\n",
    "        to include a last indexed element, we have to keep the stop_value , 1 value more than \n",
    "        the last included element\n",
    "        \n",
    "        For example I want to slice the list (study) and have table (index=0) and pencil (index=1) in output (op)"
   ]
  },
  {
   "cell_type": "code",
   "execution_count": 26,
   "id": "dc4de6a8",
   "metadata": {},
   "outputs": [
    {
     "name": "stdout",
     "output_type": "stream",
     "text": [
      "['table']\n"
     ]
    }
   ],
   "source": [
    "print(study[0:1])       # wrong command, the stop_value should be 1 value more than the index value of pencil (1)"
   ]
  },
  {
   "cell_type": "code",
   "execution_count": 27,
   "id": "a9cfaa02",
   "metadata": {},
   "outputs": [
    {
     "name": "stdout",
     "output_type": "stream",
     "text": [
      "['table', 'pencil']\n"
     ]
    }
   ],
   "source": [
    "print(study[0:2])  "
   ]
  },
  {
   "cell_type": "code",
   "execution_count": null,
   "id": "098e7acd",
   "metadata": {},
   "outputs": [],
   "source": [
    "# If we want to include the notebook (index value =3) also in the cliced out output"
   ]
  },
  {
   "cell_type": "code",
   "execution_count": 28,
   "id": "8e487b3b",
   "metadata": {},
   "outputs": [
    {
     "name": "stdout",
     "output_type": "stream",
     "text": [
      "['table', 'pencil', 'pen', 'notebook']\n"
     ]
    }
   ],
   "source": [
    "print(study[0:4])"
   ]
  },
  {
   "cell_type": "code",
   "execution_count": 29,
   "id": "a6f23670",
   "metadata": {},
   "outputs": [
    {
     "name": "stdout",
     "output_type": "stream",
     "text": [
      "['pen', 'notebook']\n"
     ]
    }
   ],
   "source": [
    "print(study[2:4])"
   ]
  },
  {
   "cell_type": "code",
   "execution_count": 30,
   "id": "41209d3c",
   "metadata": {},
   "outputs": [
    {
     "name": "stdout",
     "output_type": "stream",
     "text": [
      "['eraser', 'chair']\n"
     ]
    }
   ],
   "source": [
    "print(study[4:6])"
   ]
  },
  {
   "cell_type": "code",
   "execution_count": 32,
   "id": "7d405c6b",
   "metadata": {},
   "outputs": [
    {
     "name": "stdout",
     "output_type": "stream",
     "text": [
      "['book']\n"
     ]
    }
   ],
   "source": [
    "print(study[6:7])"
   ]
  },
  {
   "cell_type": "code",
   "execution_count": 33,
   "id": "ad8e6810",
   "metadata": {},
   "outputs": [
    {
     "name": "stdout",
     "output_type": "stream",
     "text": [
      "['table', 'pencil', 'pen', 'notebook', 'eraser', 'chair', 'book']\n"
     ]
    }
   ],
   "source": [
    "print(study)"
   ]
  },
  {
   "cell_type": "code",
   "execution_count": 34,
   "id": "ea782303",
   "metadata": {},
   "outputs": [
    {
     "name": "stdout",
     "output_type": "stream",
     "text": [
      "['table', 'pen', 'eraser', 'book']\n"
     ]
    }
   ],
   "source": [
    "print(study[0:8:2]) # I want to printout elements after a gap of 2 (step_value = 2)"
   ]
  },
  {
   "cell_type": "code",
   "execution_count": 35,
   "id": "f2d62aac",
   "metadata": {},
   "outputs": [
    {
     "name": "stdout",
     "output_type": "stream",
     "text": [
      "['table', 'notebook', 'book']\n"
     ]
    }
   ],
   "source": [
    "print(study[0:8:3]) # I want to printout elements after a gap of 3 (step_value = 3)"
   ]
  },
  {
   "cell_type": "code",
   "execution_count": null,
   "id": "add110ec",
   "metadata": {},
   "outputs": [],
   "source": []
  }
 ],
 "metadata": {
  "kernelspec": {
   "display_name": "Python 3 (ipykernel)",
   "language": "python",
   "name": "python3"
  },
  "language_info": {
   "codemirror_mode": {
    "name": "ipython",
    "version": 3
   },
   "file_extension": ".py",
   "mimetype": "text/x-python",
   "name": "python",
   "nbconvert_exporter": "python",
   "pygments_lexer": "ipython3",
   "version": "3.9.7"
  }
 },
 "nbformat": 4,
 "nbformat_minor": 5
}
