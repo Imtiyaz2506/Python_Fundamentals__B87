{
 "cells": [
  {
   "cell_type": "code",
   "execution_count": 1,
   "id": "5ffd5d73",
   "metadata": {},
   "outputs": [
    {
     "name": "stdout",
     "output_type": "stream",
     "text": [
      "Hello All welcome to the python programming worl!\n"
     ]
    }
   ],
   "source": [
    "print(\"Hello All welcome to the python programming worl!\")"
   ]
  },
  {
   "cell_type": "code",
   "execution_count": 2,
   "id": "e82a2b5f",
   "metadata": {},
   "outputs": [
    {
     "name": "stdout",
     "output_type": "stream",
     "text": [
      "Dear Faiyaz Sir I am Imtiyaz Ahmad\n"
     ]
    }
   ],
   "source": [
    "print(\"Dear Faiyaz Sir I am Imtiyaz Ahmad\")"
   ]
  },
  {
   "cell_type": "code",
   "execution_count": 3,
   "id": "ae74e6a6",
   "metadata": {},
   "outputs": [
    {
     "name": "stdout",
     "output_type": "stream",
     "text": [
      " I am very fresh to the computer science or IT world\n"
     ]
    }
   ],
   "source": [
    "print(\" I am very fresh to the computer science or IT world\")"
   ]
  },
  {
   "cell_type": "code",
   "execution_count": null,
   "id": "f291b422",
   "metadata": {},
   "outputs": [],
   "source": []
  }
 ],
 "metadata": {
  "kernelspec": {
   "display_name": "Python 3 (ipykernel)",
   "language": "python",
   "name": "python3"
  },
  "language_info": {
   "codemirror_mode": {
    "name": "ipython",
    "version": 3
   },
   "file_extension": ".py",
   "mimetype": "text/x-python",
   "name": "python",
   "nbconvert_exporter": "python",
   "pygments_lexer": "ipython3",
   "version": "3.9.7"
  }
 },
 "nbformat": 4,
 "nbformat_minor": 5
}
