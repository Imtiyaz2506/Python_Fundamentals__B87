{
 "cells": [
  {
   "cell_type": "code",
   "execution_count": null,
   "id": "b5a1a501",
   "metadata": {},
   "outputs": [],
   "source": [
    "Introduction to tupple datatype"
   ]
  },
  {
   "cell_type": "code",
   "execution_count": null,
   "id": "671db66f",
   "metadata": {},
   "outputs": [],
   "source": [
    "Definition: an immutable list is called tupple\n",
    "    \n",
    "classification : immutable\n",
    "    \n",
    "hwo to define =========> ( abc, xyz)\n",
    "\n",
    "\n",
    "e.g.\n",
    "\n",
    "                          \n"
   ]
  },
  {
   "cell_type": "code",
   "execution_count": 10,
   "id": "95c44b1e",
   "metadata": {},
   "outputs": [],
   "source": [
    "dimension = (100, 150)"
   ]
  },
  {
   "cell_type": "code",
   "execution_count": 11,
   "id": "48fcba40",
   "metadata": {},
   "outputs": [
    {
     "name": "stdout",
     "output_type": "stream",
     "text": [
      "(100, 150)\n"
     ]
    }
   ],
   "source": [
    "print(dimension)"
   ]
  },
  {
   "cell_type": "code",
   "execution_count": 12,
   "id": "760708cc",
   "metadata": {},
   "outputs": [
    {
     "data": {
      "text/plain": [
       "tuple"
      ]
     },
     "execution_count": 12,
     "metadata": {},
     "output_type": "execute_result"
    }
   ],
   "source": [
    "type(dimension)"
   ]
  },
  {
   "cell_type": "code",
   "execution_count": null,
   "id": "466fe790",
   "metadata": {},
   "outputs": [],
   "source": [
    "Introduction to dictionary datatype\n",
    "\n",
    "Definition: A dict is a combination of key:value pairs, \n",
    "        key = any property, \n",
    "        value = qualitative or qunatitative value of the propery\n",
    "        Key = propert e.g. colour\n",
    "        value = qualitative, eg Red, or green,or yellow, or purple\n",
    "        \n",
    "        Key = weight, value = 50, 0r 60 or 100\n",
    "    \n",
    "Calssification: mutatble datatype\n",
    "    \n",
    "How we define ====> {'key1' : 'value1', 'key2' : 'value2', .............'key' : 'value'}"
   ]
  },
  {
   "cell_type": "code",
   "execution_count": 13,
   "id": "8af2f61a",
   "metadata": {},
   "outputs": [],
   "source": [
    "Abdullah = { 'colour' : \"fair\", 'weight' : '35 kg', 'height' : \"4 feet\" }"
   ]
  },
  {
   "cell_type": "code",
   "execution_count": 14,
   "id": "dc4aebb0",
   "metadata": {},
   "outputs": [
    {
     "name": "stdout",
     "output_type": "stream",
     "text": [
      "{'colour': 'fair', 'weight': '35 kg', 'height': '4 feet'}\n"
     ]
    }
   ],
   "source": [
    "print(Abdullah)"
   ]
  },
  {
   "cell_type": "code",
   "execution_count": 15,
   "id": "85ddad57",
   "metadata": {},
   "outputs": [],
   "source": [
    "Abdullah[\"class\"] = \"6th\""
   ]
  },
  {
   "cell_type": "code",
   "execution_count": 16,
   "id": "5577c0e1",
   "metadata": {},
   "outputs": [
    {
     "name": "stdout",
     "output_type": "stream",
     "text": [
      "{'colour': 'fair', 'weight': '35 kg', 'height': '4 feet', 'class': '6th'}\n"
     ]
    }
   ],
   "source": [
    "print(Abdullah)"
   ]
  },
  {
   "cell_type": "code",
   "execution_count": null,
   "id": "c7f003c3",
   "metadata": {},
   "outputs": [],
   "source": [
    "# In Dict datatype, the keys act as index points (0 for 1st, 1 for the 2nd and so on)"
   ]
  },
  {
   "cell_type": "code",
   "execution_count": 17,
   "id": "459050bc",
   "metadata": {},
   "outputs": [
    {
     "data": {
      "text/plain": [
       "dict"
      ]
     },
     "execution_count": 17,
     "metadata": {},
     "output_type": "execute_result"
    }
   ],
   "source": [
    "type(Abdullah)"
   ]
  },
  {
   "cell_type": "code",
   "execution_count": 18,
   "id": "1386ab64",
   "metadata": {},
   "outputs": [],
   "source": [
    "Abdullah[\"school\"] = \"AGIC Kadja\""
   ]
  },
  {
   "cell_type": "code",
   "execution_count": 19,
   "id": "eaf6c284",
   "metadata": {},
   "outputs": [
    {
     "name": "stdout",
     "output_type": "stream",
     "text": [
      "{'colour': 'fair', 'weight': '35 kg', 'height': '4 feet', 'class': '6th', 'school': 'AGIC Kadja'}\n"
     ]
    }
   ],
   "source": [
    "print(Abdullah)"
   ]
  },
  {
   "cell_type": "code",
   "execution_count": 20,
   "id": "3b304ef3",
   "metadata": {},
   "outputs": [
    {
     "data": {
      "text/plain": [
       "'AGIC Kadja'"
      ]
     },
     "execution_count": 20,
     "metadata": {},
     "output_type": "execute_result"
    }
   ],
   "source": [
    "Abdullah[\"school\"]"
   ]
  },
  {
   "cell_type": "code",
   "execution_count": 21,
   "id": "7b8606e9",
   "metadata": {},
   "outputs": [
    {
     "data": {
      "text/plain": [
       "'4 feet'"
      ]
     },
     "execution_count": 21,
     "metadata": {},
     "output_type": "execute_result"
    }
   ],
   "source": [
    "Abdullah[\"height\"]"
   ]
  },
  {
   "cell_type": "code",
   "execution_count": null,
   "id": "975ced0a",
   "metadata": {},
   "outputs": [],
   "source": [
    "Note : Give the keys, get the value, reverse is not possible, i.e. give the value, get the key is not possible"
   ]
  },
  {
   "cell_type": "code",
   "execution_count": 22,
   "id": "e4ea2566",
   "metadata": {},
   "outputs": [
    {
     "data": {
      "text/plain": [
       "'6th'"
      ]
     },
     "execution_count": 22,
     "metadata": {},
     "output_type": "execute_result"
    }
   ],
   "source": [
    "Abdullah[\"class\"]"
   ]
  },
  {
   "cell_type": "code",
   "execution_count": 23,
   "id": "857bada9",
   "metadata": {},
   "outputs": [
    {
     "ename": "KeyError",
     "evalue": "'6th'",
     "output_type": "error",
     "traceback": [
      "\u001b[0;31m---------------------------------------------------------------------------\u001b[0m",
      "\u001b[0;31mKeyError\u001b[0m                                  Traceback (most recent call last)",
      "\u001b[0;32m/var/folders/pm/wqxb6c8d45qdtlg8xb6wjrjm0000gn/T/ipykernel_11200/1221018860.py\u001b[0m in \u001b[0;36m<module>\u001b[0;34m\u001b[0m\n\u001b[0;32m----> 1\u001b[0;31m \u001b[0mAbdullah\u001b[0m\u001b[0;34m[\u001b[0m\u001b[0;34m\"6th\"\u001b[0m\u001b[0;34m]\u001b[0m\u001b[0;34m\u001b[0m\u001b[0;34m\u001b[0m\u001b[0m\n\u001b[0m",
      "\u001b[0;31mKeyError\u001b[0m: '6th'"
     ]
    }
   ],
   "source": [
    "Abdullah[\"6th\"]"
   ]
  },
  {
   "cell_type": "code",
   "execution_count": null,
   "id": "c0e69c97",
   "metadata": {},
   "outputs": [],
   "source": [
    "# give the value, get the key is not possible"
   ]
  },
  {
   "cell_type": "code",
   "execution_count": null,
   "id": "d14f6ec9",
   "metadata": {},
   "outputs": [],
   "source": [
    " Implementation of for loop in Dict datatype\n",
    "    \n",
    "    \n",
    "    The command prompt for for loop = \n",
    "    \n",
    "    for tempvar1, tempvar in mainvair.items():\n",
    "    print(tempvar1=key)\n",
    "    print(tempvar2=value)\n",
    "    \n",
    "    "
   ]
  },
  {
   "cell_type": "code",
   "execution_count": 33,
   "id": "c5060b54",
   "metadata": {},
   "outputs": [
    {
     "name": "stdout",
     "output_type": "stream",
     "text": [
      "colour\n",
      "fair\n",
      "weight\n",
      "35 kg\n",
      "height\n",
      "4 feet\n",
      "class\n",
      "6th\n",
      "school\n",
      "AGIC Kadja\n"
     ]
    }
   ],
   "source": [
    "for k,v in Abdullah.items():\n",
    "    print(k)\n",
    "    print(v)"
   ]
  },
  {
   "cell_type": "code",
   "execution_count": null,
   "id": "066c994e",
   "metadata": {},
   "outputs": [],
   "source": []
  }
 ],
 "metadata": {
  "kernelspec": {
   "display_name": "Python 3 (ipykernel)",
   "language": "python",
   "name": "python3"
  },
  "language_info": {
   "codemirror_mode": {
    "name": "ipython",
    "version": 3
   },
   "file_extension": ".py",
   "mimetype": "text/x-python",
   "name": "python",
   "nbconvert_exporter": "python",
   "pygments_lexer": "ipython3",
   "version": "3.9.7"
  }
 },
 "nbformat": 4,
 "nbformat_minor": 5
}
