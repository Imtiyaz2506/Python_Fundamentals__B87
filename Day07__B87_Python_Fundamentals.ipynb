{
 "cells": [
  {
   "cell_type": "code",
   "execution_count": null,
   "id": "52d5c2ef",
   "metadata": {},
   "outputs": [],
   "source": [
    "    # Day07_B87_Python_Fundamentals"
   ]
  },
  {
   "cell_type": "code",
   "execution_count": null,
   "id": "c32f0bb6",
   "metadata": {},
   "outputs": [],
   "source": [
    "    # Continuation with LIST datatype"
   ]
  },
  {
   "cell_type": "code",
   "execution_count": null,
   "id": "6e2f6ac4",
   "metadata": {},
   "outputs": [],
   "source": [
    "     Organising the list datatype"
   ]
  },
  {
   "cell_type": "code",
   "execution_count": 3,
   "id": "745bda94",
   "metadata": {},
   "outputs": [],
   "source": [
    "study = ['table', 'chair', 'book', 'notebook', 'pen', 'pencil', 'eraser']"
   ]
  },
  {
   "cell_type": "code",
   "execution_count": 4,
   "id": "ce6f986b",
   "metadata": {},
   "outputs": [
    {
     "data": {
      "text/plain": [
       "list"
      ]
     },
     "execution_count": 4,
     "metadata": {},
     "output_type": "execute_result"
    }
   ],
   "source": [
    "type(study)"
   ]
  },
  {
   "cell_type": "code",
   "execution_count": null,
   "id": "734d23b4",
   "metadata": {},
   "outputs": [],
   "source": [
    "# req: I want to organise the list in alphabetical order A -----> Z\n",
    "\n",
    "Two methods\n",
    "\n",
    "    1. Temporary method ====> sorted method, ======> the list is temporarily modified but the original order of the \n",
    "    elements  in the list is still maintained or preserved\n",
    "    \n",
    "    \n",
    "    2. Permanent method =====> sort method ====> the original order of elements in the list is permanently \n",
    "    alphabetically arranged and hence the list is permanently modified.\n",
    "    "
   ]
  },
  {
   "cell_type": "code",
   "execution_count": null,
   "id": "1b2cfdaa",
   "metadata": {},
   "outputs": [],
   "source": [
    "    "
   ]
  },
  {
   "cell_type": "code",
   "execution_count": null,
   "id": "d2fc76e3",
   "metadata": {},
   "outputs": [],
   "source": [
    "1. sorted method"
   ]
  },
  {
   "cell_type": "code",
   "execution_count": 9,
   "id": "f458d369",
   "metadata": {},
   "outputs": [
    {
     "name": "stdout",
     "output_type": "stream",
     "text": [
      "['table', 'chair', 'book', 'notebook', 'pen', 'pencil', 'eraser']\n"
     ]
    }
   ],
   "source": [
    "print(study)"
   ]
  },
  {
   "cell_type": "code",
   "execution_count": 10,
   "id": "fd08d79f",
   "metadata": {},
   "outputs": [
    {
     "name": "stdout",
     "output_type": "stream",
     "text": [
      "['book', 'chair', 'eraser', 'notebook', 'pen', 'pencil', 'table']\n"
     ]
    }
   ],
   "source": [
    "print(sorted(study)) # this command sorted the element in list (study) alphabatically"
   ]
  },
  {
   "cell_type": "code",
   "execution_count": 11,
   "id": "f2938533",
   "metadata": {},
   "outputs": [
    {
     "name": "stdout",
     "output_type": "stream",
     "text": [
      "['table', 'chair', 'book', 'notebook', 'pen', 'pencil', 'eraser']\n"
     ]
    }
   ],
   "source": [
    "print(study)      # printing the list (study) gives the same original order of elements in the list."
   ]
  },
  {
   "cell_type": "code",
   "execution_count": null,
   "id": "99e2273f",
   "metadata": {},
   "outputs": [],
   "source": [
    "2. sort method"
   ]
  },
  {
   "cell_type": "code",
   "execution_count": 13,
   "id": "10b0ee4f",
   "metadata": {},
   "outputs": [],
   "source": [
    "study.sort()"
   ]
  },
  {
   "cell_type": "code",
   "execution_count": 14,
   "id": "ca2a658a",
   "metadata": {},
   "outputs": [
    {
     "name": "stdout",
     "output_type": "stream",
     "text": [
      "['book', 'chair', 'eraser', 'notebook', 'pen', 'pencil', 'table']\n"
     ]
    }
   ],
   "source": [
    "print(study)"
   ]
  },
  {
   "cell_type": "code",
   "execution_count": null,
   "id": "df1e5358",
   "metadata": {},
   "outputs": [],
   "source": [
    "Interview Question: What is the difference between sorted and sort method in list datatype?\n",
    "    \n",
    "    Sorted method change the order of elements in a list temprarily in alphabatical order or reverse\n",
    "    sort method change the order of elements in a list permanently in alphabatical order or reverse"
   ]
  },
  {
   "cell_type": "code",
   "execution_count": null,
   "id": "ecd1f7e6",
   "metadata": {},
   "outputs": [],
   "source": [
    "# req : How to print the list in a reverse order?"
   ]
  },
  {
   "cell_type": "code",
   "execution_count": 17,
   "id": "f0bca9d1",
   "metadata": {},
   "outputs": [
    {
     "name": "stdout",
     "output_type": "stream",
     "text": [
      "['book', 'chair', 'eraser', 'notebook', 'pen', 'pencil', 'table']\n"
     ]
    }
   ],
   "source": [
    "print(study)"
   ]
  },
  {
   "cell_type": "code",
   "execution_count": 23,
   "id": "319105ce",
   "metadata": {},
   "outputs": [],
   "source": [
    "study.reverse()"
   ]
  },
  {
   "cell_type": "code",
   "execution_count": 24,
   "id": "3047558d",
   "metadata": {},
   "outputs": [
    {
     "name": "stdout",
     "output_type": "stream",
     "text": [
      "['table', 'pencil', 'pen', 'notebook', 'eraser', 'chair', 'book']\n"
     ]
    }
   ],
   "source": [
    "print(study)"
   ]
  },
  {
   "cell_type": "code",
   "execution_count": 25,
   "id": "cac52646",
   "metadata": {},
   "outputs": [
    {
     "data": {
      "text/plain": [
       "7"
      ]
     },
     "execution_count": 25,
     "metadata": {},
     "output_type": "execute_result"
    }
   ],
   "source": [
    "len(study)"
   ]
  },
  {
   "cell_type": "code",
   "execution_count": null,
   "id": "fbc20018",
   "metadata": {},
   "outputs": [],
   "source": [
    "    # slicing the LIST\n",
    "    \n",
    "    # General syntax of slicing\n",
    "    \n",
    "    [start_value:stop_value:step_count]\n",
    "    \n",
    "    Note: stop_value is always exclusive (not included, all others before it will be included)\n",
    "        to include a last indexed element, we have to keep the stop_value , 1 value more than \n",
    "        the last included element\n",
    "        \n",
    "        For example I want to slice the list (study) and have table (index=0) and pencil (index=1) in output (op)"
   ]
  },
  {
   "cell_type": "code",
   "execution_count": 26,
   "id": "aac5170b",
   "metadata": {},
   "outputs": [
    {
     "name": "stdout",
     "output_type": "stream",
     "text": [
      "['table']\n"
     ]
    }
   ],
   "source": [
    "print(study[0:1])       # wrong command, the stop_value should be 1 value more than the index value of pencil (1)"
   ]
  },
  {
   "cell_type": "code",
   "execution_count": 27,
   "id": "3cbe7563",
   "metadata": {},
   "outputs": [
    {
     "name": "stdout",
     "output_type": "stream",
     "text": [
      "['table', 'pencil']\n"
     ]
    }
   ],
   "source": [
    "print(study[0:2])  "
   ]
  },
  {
   "cell_type": "code",
   "execution_count": null,
   "id": "db91bf5a",
   "metadata": {},
   "outputs": [],
   "source": [
    "# If we want to include the notebook (index value =3) also in the cliced out output"
   ]
  },
  {
   "cell_type": "code",
   "execution_count": 28,
   "id": "17ded41c",
   "metadata": {},
   "outputs": [
    {
     "name": "stdout",
     "output_type": "stream",
     "text": [
      "['table', 'pencil', 'pen', 'notebook']\n"
     ]
    }
   ],
   "source": [
    "print(study[0:4])"
   ]
  },
  {
   "cell_type": "code",
   "execution_count": 29,
   "id": "a763535a",
   "metadata": {},
   "outputs": [
    {
     "name": "stdout",
     "output_type": "stream",
     "text": [
      "['pen', 'notebook']\n"
     ]
    }
   ],
   "source": [
    "print(study[2:4])"
   ]
  },
  {
   "cell_type": "code",
   "execution_count": 30,
   "id": "7bd48bf1",
   "metadata": {},
   "outputs": [
    {
     "name": "stdout",
     "output_type": "stream",
     "text": [
      "['eraser', 'chair']\n"
     ]
    }
   ],
   "source": [
    "print(study[4:6])"
   ]
  },
  {
   "cell_type": "code",
   "execution_count": 32,
   "id": "7b015271",
   "metadata": {},
   "outputs": [
    {
     "name": "stdout",
     "output_type": "stream",
     "text": [
      "['book']\n"
     ]
    }
   ],
   "source": [
    "print(study[6:7])"
   ]
  },
  {
   "cell_type": "code",
   "execution_count": null,
   "id": "b040d658",
   "metadata": {},
   "outputs": [],
   "source": []
  },
  {
   "cell_type": "code",
   "execution_count": null,
   "id": "219d581f",
   "metadata": {},
   "outputs": [],
   "source": []
  },
  {
   "cell_type": "code",
   "execution_count": null,
   "id": "bbad4b4b",
   "metadata": {},
   "outputs": [],
   "source": []
  },
  {
   "cell_type": "code",
   "execution_count": null,
   "id": "edb74de7",
   "metadata": {},
   "outputs": [],
   "source": []
  }
 ],
 "metadata": {
  "kernelspec": {
   "display_name": "Python 3 (ipykernel)",
   "language": "python",
   "name": "python3"
  },
  "language_info": {
   "codemirror_mode": {
    "name": "ipython",
    "version": 3
   },
   "file_extension": ".py",
   "mimetype": "text/x-python",
   "name": "python",
   "nbconvert_exporter": "python",
   "pygments_lexer": "ipython3",
   "version": "3.9.7"
  }
 },
 "nbformat": 4,
 "nbformat_minor": 5
}
