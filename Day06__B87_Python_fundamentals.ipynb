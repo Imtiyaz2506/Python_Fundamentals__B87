{
 "cells": [
  {
   "cell_type": "code",
   "execution_count": null,
   "id": "0791de92",
   "metadata": {},
   "outputs": [],
   "source": [
    "    # Day06_B87_Pythonfundamentals"
   ]
  },
  {
   "cell_type": "code",
   "execution_count": null,
   "id": "cf299a58",
   "metadata": {},
   "outputs": [],
   "source": [
    "                        # Introduction to LIST datatype"
   ]
  },
  {
   "cell_type": "code",
   "execution_count": null,
   "id": "d3c68a2d",
   "metadata": {},
   "outputs": [],
   "source": [
    "    # Definition: A list is a collection items in a particular order\n",
    "    \n",
    "    # classification: it is classified as a mutable datatype\n",
    "\n",
    "    \n",
    "    How to declare list datatype?\n",
    "    \n",
    "    Answer: List datatype is declared in squire brackets  =====>  [ \"element1\", \"element2\", \"element3\", .....etc]\n",
    "        or \n",
    "        \n",
    "        [ 'element1', 'element2', .....etc]"
   ]
  },
  {
   "cell_type": "code",
   "execution_count": null,
   "id": "83204f1d",
   "metadata": {},
   "outputs": [],
   "source": [
    "For exame a list of students as shown bellow"
   ]
  },
  {
   "cell_type": "code",
   "execution_count": 1,
   "id": "9fd1b715",
   "metadata": {},
   "outputs": [],
   "source": [
    "students = [\"Imtiyaz\", \"Parveen\", \"Abdullah\", \"Zainab\", \"Abdulahad\"]"
   ]
  },
  {
   "cell_type": "code",
   "execution_count": 2,
   "id": "e4e75232",
   "metadata": {},
   "outputs": [
    {
     "name": "stdout",
     "output_type": "stream",
     "text": [
      "['Imtiyaz', 'Parveen', 'Abdullah', 'Zainab', 'Abdulahad']\n"
     ]
    }
   ],
   "source": [
    "print(students)"
   ]
  },
  {
   "cell_type": "code",
   "execution_count": null,
   "id": "72d8a87a",
   "metadata": {},
   "outputs": [],
   "source": [
    "What kind of datatype student is ? Ans: the type method ==> type(student) Shift + Enter "
   ]
  },
  {
   "cell_type": "code",
   "execution_count": 3,
   "id": "0fb3f71c",
   "metadata": {},
   "outputs": [
    {
     "data": {
      "text/plain": [
       "list"
      ]
     },
     "execution_count": 3,
     "metadata": {},
     "output_type": "execute_result"
    }
   ],
   "source": [
    "type(students)"
   ]
  },
  {
   "cell_type": "code",
   "execution_count": null,
   "id": "f1d86621",
   "metadata": {},
   "outputs": [],
   "source": [
    "    # Introduction of indexation (position value) in a list datatype : 0, 1, 2, 3, 4, 5, ....... n \n",
    "    \n",
    "    \n",
    "    For example : students = [\"Imtiyaz\", \"Parveen\", \"Abdullah\", \"Zainab\", \"Abdulahad\"]\n",
    "        \n",
    "    Index value ============>     0,        1,          2,          3,        4\n",
    "    \n",
    "    index value helps in printing out any specific element of the list, as shown bellow"
   ]
  },
  {
   "cell_type": "code",
   "execution_count": 5,
   "id": "2b25d50a",
   "metadata": {},
   "outputs": [
    {
     "name": "stdout",
     "output_type": "stream",
     "text": [
      "Imtiyaz\n"
     ]
    }
   ],
   "source": [
    "print(students[0])"
   ]
  },
  {
   "cell_type": "code",
   "execution_count": 6,
   "id": "61b3450e",
   "metadata": {},
   "outputs": [
    {
     "name": "stdout",
     "output_type": "stream",
     "text": [
      "Parveen\n"
     ]
    }
   ],
   "source": [
    "print(students[1])"
   ]
  },
  {
   "cell_type": "code",
   "execution_count": 7,
   "id": "dc0dd30c",
   "metadata": {},
   "outputs": [
    {
     "name": "stdout",
     "output_type": "stream",
     "text": [
      "Zainab\n"
     ]
    }
   ],
   "source": [
    "print(students[3])"
   ]
  },
  {
   "cell_type": "code",
   "execution_count": 8,
   "id": "05229d40",
   "metadata": {},
   "outputs": [
    {
     "name": "stdout",
     "output_type": "stream",
     "text": [
      "IMTIYAZ\n"
     ]
    }
   ],
   "source": [
    "print(students[0].upper())"
   ]
  },
  {
   "cell_type": "code",
   "execution_count": 9,
   "id": "63351a9d",
   "metadata": {},
   "outputs": [
    {
     "name": "stdout",
     "output_type": "stream",
     "text": [
      "imtiyaz\n"
     ]
    }
   ],
   "source": [
    "print(students[0].lower())"
   ]
  },
  {
   "cell_type": "code",
   "execution_count": 10,
   "id": "5f0a946a",
   "metadata": {},
   "outputs": [
    {
     "name": "stdout",
     "output_type": "stream",
     "text": [
      "Imtiyaz\n"
     ]
    }
   ],
   "source": [
    "print(students[0].title())"
   ]
  },
  {
   "cell_type": "code",
   "execution_count": null,
   "id": "f1439e06",
   "metadata": {},
   "outputs": [],
   "source": []
  },
  {
   "cell_type": "code",
   "execution_count": null,
   "id": "7541a1fc",
   "metadata": {},
   "outputs": [],
   "source": [
    "    # Since a list datatype is a mutable datatype, we can mutate or edit it, How we can?\n",
    "    \n",
    "    1. how to add a new element is a list?\n",
    "    \n",
    "    2. how to modify any specific element in the list?\n",
    "    \n",
    "    3. how to delete any specific element in the list?"
   ]
  },
  {
   "cell_type": "code",
   "execution_count": null,
   "id": "fa7d6e00",
   "metadata": {},
   "outputs": [],
   "source": [
    "# 1. I want to add a new element (Rehan) in the list (students)"
   ]
  },
  {
   "cell_type": "code",
   "execution_count": 12,
   "id": "ca80e499",
   "metadata": {},
   "outputs": [
    {
     "name": "stdout",
     "output_type": "stream",
     "text": [
      "['Imtiyaz', 'Parveen', 'Abdullah', 'Zainab', 'Abdulahad']\n"
     ]
    }
   ],
   "source": [
    "print(students)"
   ]
  },
  {
   "cell_type": "code",
   "execution_count": 13,
   "id": "c10ef65c",
   "metadata": {},
   "outputs": [],
   "source": [
    "students.append(\"Rehan\")"
   ]
  },
  {
   "cell_type": "code",
   "execution_count": 14,
   "id": "c9a4ed9d",
   "metadata": {},
   "outputs": [
    {
     "name": "stdout",
     "output_type": "stream",
     "text": [
      "['Imtiyaz', 'Parveen', 'Abdullah', 'Zainab', 'Abdulahad', 'Rehan']\n"
     ]
    }
   ],
   "source": [
    "print(students)"
   ]
  },
  {
   "cell_type": "code",
   "execution_count": 15,
   "id": "abf95ca8",
   "metadata": {},
   "outputs": [],
   "source": [
    "students.append(\"Taahir\")"
   ]
  },
  {
   "cell_type": "code",
   "execution_count": 16,
   "id": "62d193fa",
   "metadata": {},
   "outputs": [
    {
     "name": "stdout",
     "output_type": "stream",
     "text": [
      "['Imtiyaz', 'Parveen', 'Abdullah', 'Zainab', 'Abdulahad', 'Rehan', 'Taahir']\n"
     ]
    }
   ],
   "source": [
    "print(students)"
   ]
  },
  {
   "cell_type": "code",
   "execution_count": null,
   "id": "c0bcfe50",
   "metadata": {},
   "outputs": [],
   "source": [
    "# How to add a new element at a specific position in the list ==> you have to give the index value to new element\n"
   ]
  },
  {
   "cell_type": "code",
   "execution_count": 17,
   "id": "084f91c6",
   "metadata": {},
   "outputs": [],
   "source": [
    "students.insert(5, \"Naimulhaq\")"
   ]
  },
  {
   "cell_type": "code",
   "execution_count": 18,
   "id": "71362594",
   "metadata": {},
   "outputs": [
    {
     "name": "stdout",
     "output_type": "stream",
     "text": [
      "['Imtiyaz', 'Parveen', 'Abdullah', 'Zainab', 'Abdulahad', 'Naimulhaq', 'Rehan', 'Taahir']\n"
     ]
    }
   ],
   "source": [
    "print(students)"
   ]
  },
  {
   "cell_type": "code",
   "execution_count": 19,
   "id": "78fc2f80",
   "metadata": {},
   "outputs": [],
   "source": [
    "students.insert(6, \"Noorayesha\")"
   ]
  },
  {
   "cell_type": "code",
   "execution_count": 20,
   "id": "176fe45e",
   "metadata": {},
   "outputs": [
    {
     "name": "stdout",
     "output_type": "stream",
     "text": [
      "['Imtiyaz', 'Parveen', 'Abdullah', 'Zainab', 'Abdulahad', 'Naimulhaq', 'Noorayesha', 'Rehan', 'Taahir']\n"
     ]
    }
   ],
   "source": [
    "print(students)"
   ]
  },
  {
   "cell_type": "code",
   "execution_count": null,
   "id": "3fc7a337",
   "metadata": {},
   "outputs": [],
   "source": [
    "# Interview Question\n",
    "What is difference between append and insert method in a list datatype\n",
    "Answer: Append method always add new element at the end of the list (give it the highest index value)\n",
    "Whereas insert method add a new element in the list at a desired position commanded by the given index value"
   ]
  },
  {
   "cell_type": "code",
   "execution_count": null,
   "id": "638cbf54",
   "metadata": {},
   "outputs": [],
   "source": [
    "    # 2. How to modify an element of a given index value with another element?\n",
    "    I want to replace \"Taahir\" by \"Farhaan\" in the students list"
   ]
  },
  {
   "cell_type": "code",
   "execution_count": 21,
   "id": "d6d986ca",
   "metadata": {},
   "outputs": [],
   "source": [
    "students[8] = \"Farhaan\""
   ]
  },
  {
   "cell_type": "code",
   "execution_count": 22,
   "id": "1d13508b",
   "metadata": {},
   "outputs": [
    {
     "name": "stdout",
     "output_type": "stream",
     "text": [
      "['Imtiyaz', 'Parveen', 'Abdullah', 'Zainab', 'Abdulahad', 'Naimulhaq', 'Noorayesha', 'Rehan', 'Farhaan']\n"
     ]
    }
   ],
   "source": [
    "print(students)"
   ]
  },
  {
   "cell_type": "code",
   "execution_count": null,
   "id": "cecfebfa",
   "metadata": {},
   "outputs": [],
   "source": [
    " # 3. How to delete an element from the list?\n",
    "    I want to delete  \"Abdulahad\" (index value = 4)"
   ]
  },
  {
   "cell_type": "code",
   "execution_count": 23,
   "id": "72858b64",
   "metadata": {},
   "outputs": [],
   "source": [
    "del students[4]"
   ]
  },
  {
   "cell_type": "code",
   "execution_count": 24,
   "id": "852439cc",
   "metadata": {},
   "outputs": [
    {
     "name": "stdout",
     "output_type": "stream",
     "text": [
      "['Imtiyaz', 'Parveen', 'Abdullah', 'Zainab', 'Naimulhaq', 'Noorayesha', 'Rehan', 'Farhaan']\n"
     ]
    }
   ],
   "source": [
    "print(students)"
   ]
  },
  {
   "cell_type": "code",
   "execution_count": null,
   "id": "106f2e51",
   "metadata": {},
   "outputs": [],
   "source": [
    "        # Zen of python: (rule book of python or SOP of python or Constitution)"
   ]
  },
  {
   "cell_type": "code",
   "execution_count": 25,
   "id": "de90be74",
   "metadata": {},
   "outputs": [
    {
     "name": "stdout",
     "output_type": "stream",
     "text": [
      "The Zen of Python, by Tim Peters\n",
      "\n",
      "Beautiful is better than ugly.\n",
      "Explicit is better than implicit.\n",
      "Simple is better than complex.\n",
      "Complex is better than complicated.\n",
      "Flat is better than nested.\n",
      "Sparse is better than dense.\n",
      "Readability counts.\n",
      "Special cases aren't special enough to break the rules.\n",
      "Although practicality beats purity.\n",
      "Errors should never pass silently.\n",
      "Unless explicitly silenced.\n",
      "In the face of ambiguity, refuse the temptation to guess.\n",
      "There should be one-- and preferably only one --obvious way to do it.\n",
      "Although that way may not be obvious at first unless you're Dutch.\n",
      "Now is better than never.\n",
      "Although never is often better than *right* now.\n",
      "If the implementation is hard to explain, it's a bad idea.\n",
      "If the implementation is easy to explain, it may be a good idea.\n",
      "Namespaces are one honking great idea -- let's do more of those!\n"
     ]
    }
   ],
   "source": [
    "import this"
   ]
  },
  {
   "cell_type": "code",
   "execution_count": null,
   "id": "6405b5c7",
   "metadata": {},
   "outputs": [],
   "source": []
  },
  {
   "cell_type": "code",
   "execution_count": null,
   "id": "dbedfd54",
   "metadata": {},
   "outputs": [],
   "source": []
  }
 ],
 "metadata": {
  "kernelspec": {
   "display_name": "Python 3 (ipykernel)",
   "language": "python",
   "name": "python3"
  },
  "language_info": {
   "codemirror_mode": {
    "name": "ipython",
    "version": 3
   },
   "file_extension": ".py",
   "mimetype": "text/x-python",
   "name": "python",
   "nbconvert_exporter": "python",
   "pygments_lexer": "ipython3",
   "version": "3.9.7"
  }
 },
 "nbformat": 4,
 "nbformat_minor": 5
}
