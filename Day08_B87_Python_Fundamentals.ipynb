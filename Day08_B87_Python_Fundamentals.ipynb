{
 "cells": [
  {
   "cell_type": "code",
   "execution_count": null,
   "id": "46e63c48",
   "metadata": {},
   "outputs": [],
   "source": [
    "    # Day08_B87_Python_Fundamentals"
   ]
  },
  {
   "cell_type": "code",
   "execution_count": null,
   "id": "7339141d",
   "metadata": {},
   "outputs": [],
   "source": [
    "Continuation with list datatype"
   ]
  },
  {
   "cell_type": "code",
   "execution_count": null,
   "id": "ab3d393a",
   "metadata": {},
   "outputs": [],
   "source": [
    "Introduction to looping statements "
   ]
  },
  {
   "cell_type": "code",
   "execution_count": null,
   "id": "1bcb3971",
   "metadata": {},
   "outputs": [],
   "source": [
    "Understanding the concept of for loop: "
   ]
  },
  {
   "cell_type": "code",
   "execution_count": null,
   "id": "0244d6b7",
   "metadata": {},
   "outputs": [],
   "source": [
    "lets first make a new list datatype, for example a list of students"
   ]
  },
  {
   "cell_type": "code",
   "execution_count": 7,
   "id": "e5e30bd1",
   "metadata": {},
   "outputs": [],
   "source": [
    "students = ['amar', 'aamir', 'ravi', 'teja', 'sheela', 'bushra', 'kumar']"
   ]
  },
  {
   "cell_type": "code",
   "execution_count": 8,
   "id": "57412fe7",
   "metadata": {},
   "outputs": [
    {
     "name": "stdout",
     "output_type": "stream",
     "text": [
      "['amar', 'aamir', 'ravi', 'teja', 'sheela', 'bushra', 'kumar']\n"
     ]
    }
   ],
   "source": [
    "print(students)"
   ]
  },
  {
   "cell_type": "code",
   "execution_count": 9,
   "id": "d459d13e",
   "metadata": {},
   "outputs": [
    {
     "data": {
      "text/plain": [
       "list"
      ]
     },
     "execution_count": 9,
     "metadata": {},
     "output_type": "execute_result"
    }
   ],
   "source": [
    "type(students)"
   ]
  },
  {
   "cell_type": "code",
   "execution_count": null,
   "id": "bbb01ba3",
   "metadata": {},
   "outputs": [],
   "source": [
    "# req: I want to appreciate all students mentioned in the above list\n",
    "\n",
    "the message is : keep up the good work\n",
    "    \n",
    "    1. message for only one specific individual, let say amar who has index value = 0\n",
    "    "
   ]
  },
  {
   "cell_type": "code",
   "execution_count": 15,
   "id": "73a7a8e5",
   "metadata": {},
   "outputs": [
    {
     "name": "stdout",
     "output_type": "stream",
     "text": [
      "keep up the good work,amar\n"
     ]
    }
   ],
   "source": [
    "print(f\"keep up the good work,{students[0]}\")"
   ]
  },
  {
   "cell_type": "code",
   "execution_count": 17,
   "id": "b63af2b4",
   "metadata": {},
   "outputs": [
    {
     "name": "stdout",
     "output_type": "stream",
     "text": [
      "keep up the good work,aamir\n"
     ]
    }
   ],
   "source": [
    "print(f\"keep up the good work,{students[1]}\")"
   ]
  },
  {
   "cell_type": "code",
   "execution_count": 18,
   "id": "ddf87ef8",
   "metadata": {},
   "outputs": [
    {
     "name": "stdout",
     "output_type": "stream",
     "text": [
      "keep up the good work,Amar\n"
     ]
    }
   ],
   "source": [
    "print(f\"keep up the good work,{students[0].title()}\")"
   ]
  },
  {
   "cell_type": "code",
   "execution_count": 19,
   "id": "1fdad17e",
   "metadata": {},
   "outputs": [
    {
     "name": "stdout",
     "output_type": "stream",
     "text": [
      "keep up the good work,AAMIR\n"
     ]
    }
   ],
   "source": [
    "print(f\"keep up the good work,{students[1].upper()}\")"
   ]
  },
  {
   "cell_type": "code",
   "execution_count": null,
   "id": "8679d508",
   "metadata": {},
   "outputs": [],
   "source": [
    "# req: I want to appreciate all students mentioned in the above list\n",
    "\n",
    "the message is : keep up the good work\n",
    "    \n",
    "    2. the same message for all the individuals in the list ====> looing \n",
    "    \n",
    "    command for looping ===> for tempvar in mainvar\n",
    "    \n",
    "    lets this is tempvar is x or y or z or any name"
   ]
  },
  {
   "cell_type": "code",
   "execution_count": 21,
   "id": "f17b8c5a",
   "metadata": {},
   "outputs": [
    {
     "ename": "NameError",
     "evalue": "name 'x' is not defined",
     "output_type": "error",
     "traceback": [
      "\u001b[0;31m---------------------------------------------------------------------------\u001b[0m",
      "\u001b[0;31mNameError\u001b[0m                                 Traceback (most recent call last)",
      "\u001b[0;32m/var/folders/pm/wqxb6c8d45qdtlg8xb6wjrjm0000gn/T/ipykernel_60127/641827442.py\u001b[0m in \u001b[0;36m<module>\u001b[0;34m\u001b[0m\n\u001b[0;32m----> 1\u001b[0;31m \u001b[0mprint\u001b[0m\u001b[0;34m(\u001b[0m\u001b[0;34mf\"keep up the good work, {x}.title()\"\u001b[0m\u001b[0;34m)\u001b[0m\u001b[0;34m\u001b[0m\u001b[0;34m\u001b[0m\u001b[0m\n\u001b[0m",
      "\u001b[0;31mNameError\u001b[0m: name 'x' is not defined"
     ]
    }
   ],
   "source": [
    "print(f\"keep up the good work, {x}.title()\")"
   ]
  },
  {
   "cell_type": "code",
   "execution_count": 22,
   "id": "75caf24a",
   "metadata": {},
   "outputs": [
    {
     "ename": "NameError",
     "evalue": "name 'x' is not defined",
     "output_type": "error",
     "traceback": [
      "\u001b[0;31m---------------------------------------------------------------------------\u001b[0m",
      "\u001b[0;31mNameError\u001b[0m                                 Traceback (most recent call last)",
      "\u001b[0;32m/var/folders/pm/wqxb6c8d45qdtlg8xb6wjrjm0000gn/T/ipykernel_60127/1016156073.py\u001b[0m in \u001b[0;36m<module>\u001b[0;34m\u001b[0m\n\u001b[0;32m----> 1\u001b[0;31m \u001b[0mprint\u001b[0m\u001b[0;34m(\u001b[0m\u001b[0;34mf\"keep up the good work, {students[x].title()}\"\u001b[0m\u001b[0;34m)\u001b[0m\u001b[0;34m\u001b[0m\u001b[0;34m\u001b[0m\u001b[0m\n\u001b[0m",
      "\u001b[0;31mNameError\u001b[0m: name 'x' is not defined"
     ]
    }
   ],
   "source": [
    "print(f\"keep up the good work, {students[x].title()}\")"
   ]
  },
  {
   "cell_type": "code",
   "execution_count": 23,
   "id": "8a0a60df",
   "metadata": {},
   "outputs": [
    {
     "ename": "NameError",
     "evalue": "name 'x' is not defined",
     "output_type": "error",
     "traceback": [
      "\u001b[0;31m---------------------------------------------------------------------------\u001b[0m",
      "\u001b[0;31mNameError\u001b[0m                                 Traceback (most recent call last)",
      "\u001b[0;32m/var/folders/pm/wqxb6c8d45qdtlg8xb6wjrjm0000gn/T/ipykernel_60127/3330923861.py\u001b[0m in \u001b[0;36m<module>\u001b[0;34m\u001b[0m\n\u001b[0;32m----> 1\u001b[0;31m \u001b[0mprint\u001b[0m\u001b[0;34m(\u001b[0m\u001b[0;34mf\"keep up the good work{x.title()}\"\u001b[0m\u001b[0;34m)\u001b[0m\u001b[0;34m\u001b[0m\u001b[0;34m\u001b[0m\u001b[0m\n\u001b[0m",
      "\u001b[0;31mNameError\u001b[0m: name 'x' is not defined"
     ]
    }
   ],
   "source": [
    "print(f\"keep up the good work{x.title()}\")"
   ]
  },
  {
   "cell_type": "code",
   "execution_count": 24,
   "id": "a7355d42",
   "metadata": {},
   "outputs": [
    {
     "name": "stdout",
     "output_type": "stream",
     "text": [
      "['amar', 'aamir', 'ravi', 'teja', 'sheela', 'bushra', 'kumar']\n"
     ]
    }
   ],
   "source": [
    "print(students)"
   ]
  },
  {
   "cell_type": "code",
   "execution_count": 25,
   "id": "ae235d5d",
   "metadata": {},
   "outputs": [
    {
     "name": "stdout",
     "output_type": "stream",
     "text": [
      "keep up the good work, Sheela\n"
     ]
    }
   ],
   "source": [
    "print(f\"keep up the good work, {students[4].title()}\")"
   ]
  },
  {
   "cell_type": "code",
   "execution_count": 26,
   "id": "3c8f7e92",
   "metadata": {},
   "outputs": [
    {
     "name": "stdout",
     "output_type": "stream",
     "text": [
      "keep up the good work, Amar\n",
      "keep up the good work, Aamir\n",
      "keep up the good work, Ravi\n",
      "keep up the good work, Teja\n",
      "keep up the good work, Sheela\n",
      "keep up the good work, Bushra\n",
      "keep up the good work, Kumar\n"
     ]
    }
   ],
   "source": [
    "for x in students:\n",
    "    print(f\"keep up the good work, {x.title()}\")"
   ]
  },
  {
   "cell_type": "code",
   "execution_count": 27,
   "id": "ebc928c3",
   "metadata": {},
   "outputs": [
    {
     "name": "stdout",
     "output_type": "stream",
     "text": [
      "amar\n",
      "aamir\n",
      "ravi\n",
      "teja\n",
      "sheela\n",
      "bushra\n",
      "kumar\n"
     ]
    }
   ],
   "source": [
    "for y in students:\n",
    "    print(y)"
   ]
  },
  {
   "cell_type": "code",
   "execution_count": 31,
   "id": "dc0f4516",
   "metadata": {},
   "outputs": [
    {
     "name": "stdout",
     "output_type": "stream",
     "text": [
      "keep up the good work, Amar\n",
      "do submit all your assignment without a fail, Amar\n",
      "keep up the good work, Aamir\n",
      "do submit all your assignment without a fail, Aamir\n",
      "keep up the good work, Ravi\n",
      "do submit all your assignment without a fail, Ravi\n",
      "keep up the good work, Teja\n",
      "do submit all your assignment without a fail, Teja\n",
      "keep up the good work, Sheela\n",
      "do submit all your assignment without a fail, Sheela\n",
      "keep up the good work, Bushra\n",
      "do submit all your assignment without a fail, Bushra\n",
      "keep up the good work, Kumar\n",
      "do submit all your assignment without a fail, Kumar\n"
     ]
    }
   ],
   "source": [
    "for x in students:\n",
    "    print(f\"keep up the good work, {x.title()}\")\n",
    "    print(f\"do submit all your assignment without a fail, {x.title()}\")"
   ]
  },
  {
   "cell_type": "code",
   "execution_count": 32,
   "id": "73a4b2f7",
   "metadata": {},
   "outputs": [
    {
     "name": "stdout",
     "output_type": "stream",
     "text": [
      "keep up the good work, Amar\n",
      "do submit all your assignment without a fail, Amar\n",
      "\n",
      "keep up the good work, Aamir\n",
      "do submit all your assignment without a fail, Aamir\n",
      "\n",
      "keep up the good work, Ravi\n",
      "do submit all your assignment without a fail, Ravi\n",
      "\n",
      "keep up the good work, Teja\n",
      "do submit all your assignment without a fail, Teja\n",
      "\n",
      "keep up the good work, Sheela\n",
      "do submit all your assignment without a fail, Sheela\n",
      "\n",
      "keep up the good work, Bushra\n",
      "do submit all your assignment without a fail, Bushra\n",
      "\n",
      "keep up the good work, Kumar\n",
      "do submit all your assignment without a fail, Kumar\n",
      "\n"
     ]
    }
   ],
   "source": [
    "for x in students:\n",
    "    print(f\"keep up the good work, {x.title()}\")\n",
    "    print(f\"do submit all your assignment without a fail, {x.title()}\\n\")"
   ]
  },
  {
   "cell_type": "code",
   "execution_count": 42,
   "id": "f711bbed",
   "metadata": {},
   "outputs": [
    {
     "name": "stdout",
     "output_type": "stream",
     "text": [
      "keep up the good work, Amar\n",
      "do submit all your assignment without a fail, Amar\n",
      "\n",
      "keep up the good work, Aamir\n",
      "do submit all your assignment without a fail, Aamir\n",
      "\n",
      "keep up the good work, Ravi\n",
      "do submit all your assignment without a fail, Ravi\n",
      "\n",
      "keep up the good work, Teja\n",
      "do submit all your assignment without a fail, Teja\n",
      "\n",
      "keep up the good work, Sheela\n",
      "do submit all your assignment without a fail, Sheela\n",
      "\n",
      "keep up the good work, Bushra\n",
      "do submit all your assignment without a fail, Bushra\n",
      "\n",
      "keep up the good work, Kumar\n",
      "do submit all your assignment without a fail, Kumar\n",
      "\n",
      "thank you all for the joing the session\n"
     ]
    }
   ],
   "source": [
    "for x in students:\n",
    "    print(f\"keep up the good work, {x.title()}\")\n",
    "    print(f\"do submit all your assignment without a fail, {x.title()}\\n\")\n",
    "print(\"thank you all for the joing the session\")"
   ]
  },
  {
   "cell_type": "code",
   "execution_count": null,
   "id": "61e8a82e",
   "metadata": {},
   "outputs": [],
   "source": []
  }
 ],
 "metadata": {
  "kernelspec": {
   "display_name": "Python 3 (ipykernel)",
   "language": "python",
   "name": "python3"
  },
  "language_info": {
   "codemirror_mode": {
    "name": "ipython",
    "version": 3
   },
   "file_extension": ".py",
   "mimetype": "text/x-python",
   "name": "python",
   "nbconvert_exporter": "python",
   "pygments_lexer": "ipython3",
   "version": "3.9.7"
  }
 },
 "nbformat": 4,
 "nbformat_minor": 5
}
