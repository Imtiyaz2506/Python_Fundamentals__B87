{
 "cells": [
  {
   "cell_type": "code",
   "execution_count": null,
   "id": "ca775522",
   "metadata": {},
   "outputs": [],
   "source": [
    "Introduction to the Python programming Fundamentals"
   ]
  },
  {
   "cell_type": "code",
   "execution_count": null,
   "id": "01e0abd5",
   "metadata": {},
   "outputs": [],
   "source": [
    "Understanding the variables in python"
   ]
  },
  {
   "cell_type": "code",
   "execution_count": null,
   "id": "30973f1b",
   "metadata": {},
   "outputs": [],
   "source": [
    "x = 2\n",
    "y = 3"
   ]
  },
  {
   "cell_type": "code",
   "execution_count": 15,
   "id": "87f9d12f",
   "metadata": {},
   "outputs": [
    {
     "name": "stdout",
     "output_type": "stream",
     "text": [
      "5\n"
     ]
    }
   ],
   "source": [
    "z = x+y\n",
    "\n",
    "print(z)"
   ]
  },
  {
   "cell_type": "code",
   "execution_count": null,
   "id": "ccf2506a",
   "metadata": {},
   "outputs": [],
   "source": [
    "Rule 1 : no space in the name of the variable"
   ]
  },
  {
   "cell_type": "code",
   "execution_count": 19,
   "id": "a321812f",
   "metadata": {},
   "outputs": [
    {
     "name": "stdout",
     "output_type": "stream",
     "text": [
      "Abdullah\n"
     ]
    }
   ],
   "source": [
    "firstname = \"Abdullah\"\n",
    "\n",
    "print(firstname)"
   ]
  },
  {
   "cell_type": "code",
   "execution_count": 30,
   "id": "0608cc1a",
   "metadata": {},
   "outputs": [
    {
     "name": "stdout",
     "output_type": "stream",
     "text": [
      "Abdullah\n"
     ]
    }
   ],
   "source": [
    "firstname : \"Abdullah\"\n",
    "    \n",
    "print(firstname)"
   ]
  },
  {
   "cell_type": "code",
   "execution_count": null,
   "id": "f572b44f",
   "metadata": {},
   "outputs": [],
   "source": [
    "first_name : \"Abdullah\""
   ]
  },
  {
   "cell_type": "code",
   "execution_count": 42,
   "id": "e2934956",
   "metadata": {},
   "outputs": [
    {
     "ename": "NameError",
     "evalue": "name 'name1' is not defined",
     "output_type": "error",
     "traceback": [
      "\u001b[0;31m---------------------------------------------------------------------------\u001b[0m",
      "\u001b[0;31mNameError\u001b[0m                                 Traceback (most recent call last)",
      "\u001b[0;32m/var/folders/pm/wqxb6c8d45qdtlg8xb6wjrjm0000gn/T/ipykernel_39286/619156183.py\u001b[0m in \u001b[0;36m<module>\u001b[0;34m\u001b[0m\n\u001b[1;32m      1\u001b[0m \u001b[0mname1\u001b[0m \u001b[0;34m:\u001b[0m \u001b[0;34m\"Abdullah\"\u001b[0m\u001b[0;34m\u001b[0m\u001b[0;34m\u001b[0m\u001b[0m\n\u001b[1;32m      2\u001b[0m \u001b[0;34m\u001b[0m\u001b[0m\n\u001b[0;32m----> 3\u001b[0;31m \u001b[0mprint\u001b[0m\u001b[0;34m(\u001b[0m\u001b[0mname1\u001b[0m\u001b[0;34m)\u001b[0m\u001b[0;34m\u001b[0m\u001b[0;34m\u001b[0m\u001b[0m\n\u001b[0m",
      "\u001b[0;31mNameError\u001b[0m: name 'name1' is not defined"
     ]
    }
   ],
   "source": [
    "name1 : \"Abdullah\"\n",
    "    \n",
    "print(name1)"
   ]
  },
  {
   "cell_type": "code",
   "execution_count": null,
   "id": "4113a66a",
   "metadata": {},
   "outputs": [],
   "source": [
    "name1 : \"Abdullah\""
   ]
  },
  {
   "cell_type": "code",
   "execution_count": 45,
   "id": "1d4e5aba",
   "metadata": {},
   "outputs": [
    {
     "name": "stdout",
     "output_type": "stream",
     "text": [
      "Abdullah\n"
     ]
    }
   ],
   "source": [
    "first_name = \"Abdullah\"\n",
    "\n",
    "print(first_name)"
   ]
  },
  {
   "cell_type": "code",
   "execution_count": 46,
   "id": "c805738b",
   "metadata": {},
   "outputs": [
    {
     "name": "stdout",
     "output_type": "stream",
     "text": [
      "Zainab\n"
     ]
    }
   ],
   "source": [
    "name1 = \"Zainab\"\n",
    "\n",
    "print(name1)"
   ]
  },
  {
   "cell_type": "code",
   "execution_count": 47,
   "id": "720a418a",
   "metadata": {},
   "outputs": [
    {
     "name": "stdout",
     "output_type": "stream",
     "text": [
      "Abdulahad\n"
     ]
    }
   ],
   "source": [
    "name_01 = \"Abdulahad\"\n",
    "\n",
    "print(name_01)"
   ]
  },
  {
   "cell_type": "code",
   "execution_count": 49,
   "id": "bc1e2cb6",
   "metadata": {},
   "outputs": [
    {
     "name": "stdout",
     "output_type": "stream",
     "text": [
      "Zainab\n"
     ]
    }
   ],
   "source": [
    "firstname = \"Zainab\"\n",
    "\n",
    "print(firstname)"
   ]
  },
  {
   "cell_type": "code",
   "execution_count": 53,
   "id": "7de88019",
   "metadata": {},
   "outputs": [
    {
     "name": "stdout",
     "output_type": "stream",
     "text": [
      "Abdulahad Zainab Abdullah\n"
     ]
    }
   ],
   "source": [
    "firstname = \"Abdulahad Zainab Abdullah\"\n",
    "    \n",
    "print(firstname)"
   ]
  },
  {
   "cell_type": "code",
   "execution_count": null,
   "id": "af0610fa",
   "metadata": {},
   "outputs": [],
   "source": []
  },
  {
   "cell_type": "code",
   "execution_count": null,
   "id": "2101b2db",
   "metadata": {},
   "outputs": [],
   "source": [
    "Rule 2: A variable name should not begin with a number"
   ]
  },
  {
   "cell_type": "code",
   "execution_count": 62,
   "id": "d76f6a2e",
   "metadata": {},
   "outputs": [
    {
     "ename": "SyntaxError",
     "evalue": "invalid syntax (2206538851.py, line 1)",
     "output_type": "error",
     "traceback": [
      "\u001b[0;36m  File \u001b[0;32m\"/var/folders/pm/wqxb6c8d45qdtlg8xb6wjrjm0000gn/T/ipykernel_39286/2206538851.py\"\u001b[0;36m, line \u001b[0;32m1\u001b[0m\n\u001b[0;31m    1stname = \"imtiyaz\"\u001b[0m\n\u001b[0m     ^\u001b[0m\n\u001b[0;31mSyntaxError\u001b[0m\u001b[0;31m:\u001b[0m invalid syntax\n"
     ]
    }
   ],
   "source": [
    "1stname = \"imtiyaz\"\n",
    "\n",
    "print(1stname)"
   ]
  },
  {
   "cell_type": "code",
   "execution_count": null,
   "id": "f43e2d3d",
   "metadata": {},
   "outputs": [],
   "source": [
    "Rule 3: A variable name should not contain special characters (@, #, $, %, ^, &, *)"
   ]
  },
  {
   "cell_type": "code",
   "execution_count": 63,
   "id": "283c75bf",
   "metadata": {},
   "outputs": [
    {
     "ename": "SyntaxError",
     "evalue": "unexpected EOF while parsing (4000052302.py, line 3)",
     "output_type": "error",
     "traceback": [
      "\u001b[0;36m  File \u001b[0;32m\"/var/folders/pm/wqxb6c8d45qdtlg8xb6wjrjm0000gn/T/ipykernel_39286/4000052302.py\"\u001b[0;36m, line \u001b[0;32m3\u001b[0m\n\u001b[0;31m    print(#1_name)\u001b[0m\n\u001b[0m                  ^\u001b[0m\n\u001b[0;31mSyntaxError\u001b[0m\u001b[0;31m:\u001b[0m unexpected EOF while parsing\n"
     ]
    }
   ],
   "source": [
    "#1_name = \"Ahmad\"\n",
    "\n",
    "print(#1_name)"
   ]
  },
  {
   "cell_type": "code",
   "execution_count": 64,
   "id": "ad12abf6",
   "metadata": {},
   "outputs": [
    {
     "name": "stdout",
     "output_type": "stream",
     "text": [
      "ahmad\n"
     ]
    }
   ],
   "source": [
    "name_1 = \"ahmad\"\n",
    "\n",
    "print(name_1)"
   ]
  },
  {
   "cell_type": "code",
   "execution_count": 65,
   "id": "84207802",
   "metadata": {},
   "outputs": [
    {
     "ename": "SyntaxError",
     "evalue": "unexpected EOF while parsing (348187483.py, line 3)",
     "output_type": "error",
     "traceback": [
      "\u001b[0;36m  File \u001b[0;32m\"/var/folders/pm/wqxb6c8d45qdtlg8xb6wjrjm0000gn/T/ipykernel_39286/348187483.py\"\u001b[0;36m, line \u001b[0;32m3\u001b[0m\n\u001b[0;31m    print(name_1#)\u001b[0m\n\u001b[0m                  ^\u001b[0m\n\u001b[0;31mSyntaxError\u001b[0m\u001b[0;31m:\u001b[0m unexpected EOF while parsing\n"
     ]
    }
   ],
   "source": [
    "name_1# = \"Ahmad\"\n",
    "\n",
    "print(name_1#)"
   ]
  },
  {
   "cell_type": "code",
   "execution_count": null,
   "id": "750407cc",
   "metadata": {},
   "outputs": [],
   "source": []
  },
  {
   "cell_type": "code",
   "execution_count": null,
   "id": "09f5565f",
   "metadata": {},
   "outputs": [],
   "source": []
  },
  {
   "cell_type": "code",
   "execution_count": null,
   "id": "86592888",
   "metadata": {},
   "outputs": [],
   "source": []
  },
  {
   "cell_type": "code",
   "execution_count": null,
   "id": "7499bc1a",
   "metadata": {},
   "outputs": [],
   "source": []
  },
  {
   "cell_type": "code",
   "execution_count": null,
   "id": "6d83a3ee",
   "metadata": {},
   "outputs": [],
   "source": []
  },
  {
   "cell_type": "code",
   "execution_count": 61,
   "id": "2db5ce04",
   "metadata": {},
   "outputs": [
    {
     "name": "stdout",
     "output_type": "stream",
     "text": [
      "210\n"
     ]
    }
   ],
   "source": [
    "a = 143\n",
    "\n",
    "b = 67\n",
    "\n",
    "c = a+b\n",
    "\n",
    "print(c)"
   ]
  },
  {
   "cell_type": "code",
   "execution_count": null,
   "id": "d54194e7",
   "metadata": {},
   "outputs": [],
   "source": []
  },
  {
   "cell_type": "code",
   "execution_count": null,
   "id": "a4a5dec2",
   "metadata": {},
   "outputs": [],
   "source": []
  }
 ],
 "metadata": {
  "kernelspec": {
   "display_name": "Python 3 (ipykernel)",
   "language": "python",
   "name": "python3"
  },
  "language_info": {
   "codemirror_mode": {
    "name": "ipython",
    "version": 3
   },
   "file_extension": ".py",
   "mimetype": "text/x-python",
   "name": "python",
   "nbconvert_exporter": "python",
   "pygments_lexer": "ipython3",
   "version": "3.9.7"
  }
 },
 "nbformat": 4,
 "nbformat_minor": 5
}
