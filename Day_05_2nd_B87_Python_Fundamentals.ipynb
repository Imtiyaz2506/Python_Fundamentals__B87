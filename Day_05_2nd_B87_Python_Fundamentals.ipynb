{
 "cells": [
  {
   "cell_type": "code",
   "execution_count": null,
   "id": "1749fe56",
   "metadata": {},
   "outputs": [],
   "source": [
    "Continuation with the string datatype"
   ]
  },
  {
   "cell_type": "code",
   "execution_count": null,
   "id": "500bc3c4",
   "metadata": {},
   "outputs": [],
   "source": [
    "firstname = 'imtiyaz'\n",
    "lastname = 'ahmad'"
   ]
  },
  {
   "cell_type": "code",
   "execution_count": null,
   "id": "0b0c4aab",
   "metadata": {},
   "outputs": [],
   "source": [
    "# req: I want to get the full name ........?"
   ]
  },
  {
   "cell_type": "code",
   "execution_count": null,
   "id": "721e939a",
   "metadata": {},
   "outputs": [],
   "source": [
    "Introduction to f string"
   ]
  },
  {
   "cell_type": "code",
   "execution_count": 3,
   "id": "465e9a3b",
   "metadata": {},
   "outputs": [
    {
     "name": "stdout",
     "output_type": "stream",
     "text": [
      "imtiyaz ahmad\n"
     ]
    }
   ],
   "source": [
    "# general syntax of f strings\n",
    "\n",
    "f\" custome message (placeholder 1) (placeholder 2).............(placeholder.....n)\"\n",
    "\n",
    "fullname = f\"imtiyaz ahmad\"\n",
    "\n",
    "print(fullname)\n"
   ]
  },
  {
   "cell_type": "code",
   "execution_count": 4,
   "id": "318ecc4c",
   "metadata": {},
   "outputs": [
    {
     "name": "stdout",
     "output_type": "stream",
     "text": [
      "Abdul Ahad\n"
     ]
    }
   ],
   "source": [
    "fullname2 = f\"Abdul Ahad\"\n",
    "\n",
    "print(fullname2)"
   ]
  },
  {
   "cell_type": "code",
   "execution_count": 6,
   "id": "76afbc4d",
   "metadata": {},
   "outputs": [
    {
     "name": "stdout",
     "output_type": "stream",
     "text": [
      "ABDUL AHAD\n"
     ]
    }
   ],
   "source": [
    "print(fullname2.upper())"
   ]
  },
  {
   "cell_type": "code",
   "execution_count": 7,
   "id": "61438ef8",
   "metadata": {},
   "outputs": [
    {
     "name": "stdout",
     "output_type": "stream",
     "text": [
      " keep the good work Abdul Ahad\n"
     ]
    }
   ],
   "source": [
    "message = f\" keep the good work Abdul Ahad\"\n",
    "\n",
    "print(message)"
   ]
  },
  {
   "cell_type": "code",
   "execution_count": 9,
   "id": "660ec23e",
   "metadata": {},
   "outputs": [
    {
     "name": "stdout",
     "output_type": "stream",
     "text": [
      "ABDUL AHAD\n"
     ]
    }
   ],
   "source": [
    "print(fullname2.upper())"
   ]
  },
  {
   "cell_type": "code",
   "execution_count": null,
   "id": "3d7bf44e",
   "metadata": {},
   "outputs": [],
   "source": [
    "['ABDUI AHAD']"
   ]
  },
  {
   "cell_type": "code",
   "execution_count": 10,
   "id": "5ead45c1",
   "metadata": {},
   "outputs": [
    {
     "name": "stdout",
     "output_type": "stream",
     "text": [
      "abdul ahad\n"
     ]
    }
   ],
   "source": [
    "print(fullname2.lower())"
   ]
  },
  {
   "cell_type": "code",
   "execution_count": null,
   "id": "4459595a",
   "metadata": {},
   "outputs": [],
   "source": [
    "Adding whitespaces to strings"
   ]
  },
  {
   "cell_type": "code",
   "execution_count": 11,
   "id": "8c3ec8c6",
   "metadata": {},
   "outputs": [
    {
     "name": "stdout",
     "output_type": "stream",
     "text": [
      "favourite_programming_languages:CC++pascalpythonJavaswiftreact\n"
     ]
    }
   ],
   "source": [
    "print(\"favourite_programming_languages:CC++pascalpythonJavaswiftreact\")"
   ]
  },
  {
   "cell_type": "code",
   "execution_count": 13,
   "id": "0001f6ba",
   "metadata": {},
   "outputs": [
    {
     "name": "stdout",
     "output_type": "stream",
     "text": [
      "favourite_programming_languages:\n",
      "C\n",
      "C++\n",
      "pascal\n",
      "python\n",
      "Javas\n",
      "wift\n",
      "reactjs\n"
     ]
    }
   ],
   "source": [
    "print(\"favourite_programming_languages:\\nC\\nC++\\npascal\\npython\\nJavas\\nwift\\nreactjs\")"
   ]
  },
  {
   "cell_type": "code",
   "execution_count": null,
   "id": "37a62b69",
   "metadata": {},
   "outputs": [],
   "source": [
    "To add a tab space before each element, we add \\n\\tstring"
   ]
  },
  {
   "cell_type": "code",
   "execution_count": 14,
   "id": "18461b0b",
   "metadata": {},
   "outputs": [
    {
     "name": "stdout",
     "output_type": "stream",
     "text": [
      "favourite_programming_languages:\n",
      "\tC\n",
      "\tC++\n",
      "\tpascal\n",
      "\tpython\n",
      "\tJavas\n",
      "\tswift\n",
      "\treactjs\n"
     ]
    }
   ],
   "source": [
    "print(\"favourite_programming_languages:\\n\\tC\\n\\tC++\\n\\tpascal\\n\\tpython\\n\\tJavas\\n\\tswift\\n\\treactjs\")"
   ]
  },
  {
   "cell_type": "code",
   "execution_count": null,
   "id": "03761696",
   "metadata": {},
   "outputs": [],
   "source": [
    "# How to remove white space which we introduce as error during typing the string code, examples"
   ]
  },
  {
   "cell_type": "code",
   "execution_count": 15,
   "id": "5aabe45a",
   "metadata": {},
   "outputs": [
    {
     "name": "stdout",
     "output_type": "stream",
     "text": [
      "imtiyaz\n"
     ]
    }
   ],
   "source": [
    "name1 = \"imtiyaz\"\n",
    "name2 = \"  imtiyaz\"\n",
    "name3 = \"imtiyaz   \"        # emaples of strings datatypes with whitespaces\n",
    "\n",
    "print(name1)"
   ]
  },
  {
   "cell_type": "code",
   "execution_count": 16,
   "id": "2451c583",
   "metadata": {},
   "outputs": [
    {
     "name": "stdout",
     "output_type": "stream",
     "text": [
      "  imtiyaz\n"
     ]
    }
   ],
   "source": [
    "print(name2)"
   ]
  },
  {
   "cell_type": "code",
   "execution_count": 17,
   "id": "68cd9c05",
   "metadata": {},
   "outputs": [
    {
     "name": "stdout",
     "output_type": "stream",
     "text": [
      "imtiyaz   \n"
     ]
    }
   ],
   "source": [
    "print(name3)"
   ]
  },
  {
   "cell_type": "code",
   "execution_count": null,
   "id": "d093723d",
   "metadata": {},
   "outputs": [],
   "source": [
    "# How to remove white space? \n",
    "\n",
    "# Answer: by strip method"
   ]
  },
  {
   "cell_type": "code",
   "execution_count": 18,
   "id": "bef849f8",
   "metadata": {},
   "outputs": [
    {
     "data": {
      "text/plain": [
       "'imtiyaz'"
      ]
     },
     "execution_count": 18,
     "metadata": {},
     "output_type": "execute_result"
    }
   ],
   "source": [
    "name2.strip()"
   ]
  },
  {
   "cell_type": "code",
   "execution_count": 19,
   "id": "589b5eb1",
   "metadata": {},
   "outputs": [
    {
     "data": {
      "text/plain": [
       "'imtiyaz'"
      ]
     },
     "execution_count": 19,
     "metadata": {},
     "output_type": "execute_result"
    }
   ],
   "source": [
    "name3.strip()"
   ]
  },
  {
   "cell_type": "code",
   "execution_count": null,
   "id": "2398a75b",
   "metadata": {},
   "outputs": [],
   "source": []
  },
  {
   "cell_type": "code",
   "execution_count": null,
   "id": "e1956533",
   "metadata": {},
   "outputs": [],
   "source": []
  },
  {
   "cell_type": "code",
   "execution_count": null,
   "id": "3de0e19c",
   "metadata": {},
   "outputs": [],
   "source": []
  },
  {
   "cell_type": "code",
   "execution_count": null,
   "id": "f029f9b0",
   "metadata": {},
   "outputs": [],
   "source": []
  },
  {
   "cell_type": "code",
   "execution_count": null,
   "id": "9bf262ce",
   "metadata": {},
   "outputs": [],
   "source": []
  },
  {
   "cell_type": "code",
   "execution_count": null,
   "id": "be65f00c",
   "metadata": {},
   "outputs": [],
   "source": []
  }
 ],
 "metadata": {
  "kernelspec": {
   "display_name": "Python 3 (ipykernel)",
   "language": "python",
   "name": "python3"
  },
  "language_info": {
   "codemirror_mode": {
    "name": "ipython",
    "version": 3
   },
   "file_extension": ".py",
   "mimetype": "text/x-python",
   "name": "python",
   "nbconvert_exporter": "python",
   "pygments_lexer": "ipython3",
   "version": "3.9.7"
  }
 },
 "nbformat": 4,
 "nbformat_minor": 5
}
